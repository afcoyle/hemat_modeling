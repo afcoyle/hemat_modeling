{
 "cells": [
  {
   "cell_type": "markdown",
   "metadata": {},
   "source": [
    "## 2_1_organize_ADFG_SE_AK_files.ipynb\n",
    "\n",
    "This script deals with renaming and reorganization of the files obtained from the Andrew Olson at the Alaska Department of Fish and Game.\n",
    "\n",
    "These files contain data on Tanner crabs caught during the annual Tanner crab and red king crab surveys, which date back annually to 1978. They were transferred via Google Drive, though at the moment, I'm looking for a more permanent place to host them. As a result, ignore all folders below labeled \"copy_for_gannett\". This is just an original copy of all these files that I'm hoping to transfer to Gannett later so that I don't need to re-download all these files."
   ]
  },
  {
   "cell_type": "markdown",
   "metadata": {},
   "source": [
    "#### Look at all filenames in our main directory\n",
    "(note: I ran the code to replace spaces with underscores prior to this when actually running this notebook)"
   ]
  },
  {
   "cell_type": "code",
   "execution_count": 14,
   "metadata": {},
   "outputs": [
    {
     "name": "stdout",
     "output_type": "stream",
     "text": [
      "CTD\n",
      "CTD_Stations.pdf\n",
      "Pot_Set_Data_for_Tanner_and_RKC_surveys.csv\n",
      "README.md\n",
      "ROP.CF.1J.2019.02.pdf\n",
      "ROP.CF.1J.2019.12.pdf\n",
      "Specimen_data_for_Tanner_and_RKC_surveys.csv\n",
      "Specimen_data_for_Tanner_and_RKC_surveys.xlsx\n",
      "TC_survey_specimen_data_1978-1984.csv\n",
      "TC_survey_specimen_data_1985-1994.csv\n",
      "TC_survey_specimen_data_1995-1999.csv\n",
      "TC_survey_specimen_data_2000-2004.csv\n",
      "TC_survey_specimen_data_2005-2009.csv\n",
      "TC_survey_specimen_data_2010-2013.csv\n",
      "TC_survey_specimen_data_2014-2016.csv\n",
      "TC_survey_specimen_data_2017-2020.csv\n",
      "Tidbits\n",
      "copy_for_gannet\n"
     ]
    }
   ],
   "source": [
    "!ls ../data/ADFG_SE_AK_pot_surveys/"
   ]
  },
  {
   "cell_type": "markdown",
   "metadata": {},
   "source": [
    "#### Remove irrelevant files\n",
    "\n",
    "The Specimen_data_for_Tanner_and_RKC_surveys files are part of a previous attempt to transfer files, before it was discovered that the maximum was 65,000 lines. Both can be removed"
   ]
  },
  {
   "cell_type": "code",
   "execution_count": 33,
   "metadata": {},
   "outputs": [],
   "source": [
    "!rm ../data/ADFG_SE_AK_pot_surveys/Specimen_data_for_Tanner_and_RKC_surveys.*"
   ]
  },
  {
   "cell_type": "markdown",
   "metadata": {},
   "source": [
    "#### Replace all spaces with underscores\n",
    "\n",
    "We'll do this first, as it'll make it much easier to rename other things"
   ]
  },
  {
   "cell_type": "code",
   "execution_count": 4,
   "metadata": {},
   "outputs": [],
   "source": [
    "# This will replace all spaces with underscores in the main directory and all subdirectories\n",
    "!find ../data/ADFG_SE_AK_pot_surveys/ -depth -name '* *' -execdir bash -c 'for i; do mv \"$i\" \"${i// /_}\"; done' _ {} +"
   ]
  },
  {
   "cell_type": "markdown",
   "metadata": {},
   "source": [
    "#### Rename maps and regional operation plans (ROPs)"
   ]
  },
  {
   "cell_type": "code",
   "execution_count": 17,
   "metadata": {},
   "outputs": [
    {
     "name": "stdout",
     "output_type": "stream",
     "text": [
      "mv: cannot stat '../data/ADFG_SE_AK_pot_surveys/CTD_Stations.pdf': No such file or directory\n",
      "mv: cannot stat '../data/ADFG_SE_AK_pot_surveys/ROP.CF.1J.2019.02.pdf': No such file or directory\n"
     ]
    }
   ],
   "source": [
    "# Rename map of CTD stations to CTD_station_map.pdf\n",
    "!mv ../data/ADFG_SE_AK_pot_surveys/CTD_Stations.pdf ../data/ADFG_SE_AK_pot_surveys/CTD_station_map.pdf\n",
    "\n",
    "# Rename red king crab ROP\n",
    "!mv ../data/ADFG_SE_AK_pot_surveys/ROP.CF.1J.2019.02.pdf ../data/ADFG_SE_AK_pot_surveys/ROP_RKC_2019_survey.pdf\n",
    "\n",
    "# Rename Tanner crab ROP\n",
    "!mv ../data/ADFG_SE_AK_pot_surveys/ROP.CF.1J.2019.12.pdf ../data/ADFG_SE_AK_pot_surveys/ROP_Tanner_2019_survey.pdf"
   ]
  },
  {
   "cell_type": "markdown",
   "metadata": {},
   "source": [
    "#### Check if all our survey specimen data files have the same header\n",
    "\n",
    "They should - they were downloaded from the same database simultaneously, and are only split into separate files due to size limitations. Still, better safe than sorry!"
   ]
  },
  {
   "cell_type": "code",
   "execution_count": 21,
   "metadata": {},
   "outputs": [
    {
     "name": "stdout",
     "output_type": "stream",
     "text": [
      "﻿Year,Project,Trip No,Location,Pot No,Specimen No,Species,Number Of Specimens,Sex,Length Millimeters,Width Millimeters,Weight Grams,Width Spines Millimeters,Chela Height Millimeters,Recruit Status,Specimen Comments,Shell Condition,Egg Condition,Egg Development,Leg Condition,Legal Size,Leatherback,Parasite,Egg Percent,Blackmat,Tag No,Tag Event Code\n"
     ]
    }
   ],
   "source": [
    "# Look at the first line of a file chosen arbitrarily\n",
    "!head -n 1 ../data/ADFG_SE_AK_pot_surveys/TC_survey_specimen_data_2017-2020.csv"
   ]
  },
  {
   "cell_type": "code",
   "execution_count": 29,
   "metadata": {},
   "outputs": [
    {
     "name": "stdout",
     "output_type": "stream",
     "text": [
      "Match in file ../data/ADFG_SE_AK_pot_surveys/TC_survey_specimen_data_1978-1984.csv\n",
      "Match in file ../data/ADFG_SE_AK_pot_surveys/TC_survey_specimen_data_1985-1994.csv\n",
      "Match in file ../data/ADFG_SE_AK_pot_surveys/TC_survey_specimen_data_1995-1999.csv\n",
      "Match in file ../data/ADFG_SE_AK_pot_surveys/TC_survey_specimen_data_2000-2004.csv\n",
      "Match in file ../data/ADFG_SE_AK_pot_surveys/TC_survey_specimen_data_2005-2009.csv\n",
      "Match in file ../data/ADFG_SE_AK_pot_surveys/TC_survey_specimen_data_2010-2013.csv\n",
      "Match in file ../data/ADFG_SE_AK_pot_surveys/TC_survey_specimen_data_2014-2016.csv\n",
      "Match in file ../data/ADFG_SE_AK_pot_surveys/TC_survey_specimen_data_2017-2020.csv\n"
     ]
    }
   ],
   "source": [
    "# First line: Find all csv files that match that string\n",
    "# Second line: Check the first line of each file for the first line of the file chosen above\n",
    "# Third and fourth lines: Print whether each file is a match or not\n",
    "!find ../data/ADFG_SE_AK_pot_surveys/TC_survey_specimen_data* -type f -name '*.csv' -exec \\\n",
    "awk 'NR==1 && \"Year,Project,Trip No,Location,Pot No,Specimen No,Species,Number Of Specimens,Sex,Length Millimeters,Width Millimeters,Weight Grams,Width Spines Millimeters,Chela Height Millimeters,Recruit Status,Specimen Comments,Shell Condition,Egg Condition,Egg Development,Leg Condition,Legal Size,Leatherback,Parasite,Egg Percent,Blackmat,Tag No,Tag Event Code\" \\\n",
    "{ print \"Match in file \" FILENAME; exit } \\\n",
    "{print \"No match in file \" FILENAME; exit }' \\\n",
    "{} \\;"
   ]
  },
  {
   "cell_type": "markdown",
   "metadata": {},
   "source": [
    "Looks all good! Now let's merge, removing the first (header) line of all except one file"
   ]
  },
  {
   "cell_type": "code",
   "execution_count": 32,
   "metadata": {},
   "outputs": [],
   "source": [
    "# FNR is the line number of each file, NR is the line number globally.\n",
    "# First line of the first file is accepted, other first lines are ignored\n",
    "!awk '(NR == 1) || (FNR > 1)' ../data/ADFG_SE_AK_pot_surveys/TC_survey_specimen_data*.csv > ../data/ADFG_SE_AK_pot_surveys/TC_survey_specimen_data_all_years.csv"
   ]
  },
  {
   "cell_type": "code",
   "execution_count": 34,
   "metadata": {},
   "outputs": [
    {
     "name": "stdout",
     "output_type": "stream",
     "text": [
      "   21809 ../data/ADFG_SE_AK_pot_surveys/TC_survey_specimen_data_1978-1984.csv\n",
      "   50216 ../data/ADFG_SE_AK_pot_surveys/TC_survey_specimen_data_1985-1994.csv\n",
      "   23892 ../data/ADFG_SE_AK_pot_surveys/TC_survey_specimen_data_1995-1999.csv\n",
      "   39538 ../data/ADFG_SE_AK_pot_surveys/TC_survey_specimen_data_2000-2004.csv\n",
      "   53967 ../data/ADFG_SE_AK_pot_surveys/TC_survey_specimen_data_2005-2009.csv\n",
      "   53584 ../data/ADFG_SE_AK_pot_surveys/TC_survey_specimen_data_2010-2013.csv\n",
      "   47954 ../data/ADFG_SE_AK_pot_surveys/TC_survey_specimen_data_2014-2016.csv\n",
      "   53497 ../data/ADFG_SE_AK_pot_surveys/TC_survey_specimen_data_2017-2020.csv\n",
      "  344457 total\n"
     ]
    }
   ],
   "source": [
    "# Check that we did this properly by checking the line counts.\n",
    "# This gives the sum of all files with a dash after _data, which includes all our original files\n",
    "!wc -l ../data/ADFG_SE_AK_pot_surveys/TC_survey_specimen_data*-*.csv"
   ]
  },
  {
   "cell_type": "code",
   "execution_count": 35,
   "metadata": {},
   "outputs": [
    {
     "name": "stdout",
     "output_type": "stream",
     "text": [
      "344450 ../data/ADFG_SE_AK_pot_surveys/TC_survey_specimen_data_all_years.csv\n"
     ]
    }
   ],
   "source": [
    "# Now let's get the total line numbers of our new merged file\n",
    "!wc -l ../data/ADFG_SE_AK_pot_surveys/TC_survey_specimen_data_all_years.csv\n",
    "# Looks like we have 7 fewer lines, which exactly matches the 7 files removed from our 8 headers!"
   ]
  },
  {
   "cell_type": "code",
   "execution_count": 38,
   "metadata": {},
   "outputs": [
    {
     "name": "stdout",
     "output_type": "stream",
     "text": [
      "rm: cannot remove '../data/ADFG_SE_AK_pot_surveys/TC_survey_specimen_data_19??-19??.csv': No such file or directory\n"
     ]
    }
   ],
   "source": [
    "# With that assured, we can remove all our original data files\n",
    "# We'll be a bit more careful with this command, running it twice to specify files by year\n",
    "!rm ../data/ADFG_SE_AK_pot_surveys/TC_survey_specimen_data_19??-19??.csv\n",
    "!rm ../data/ADFG_SE_AK_pot_surveys/TC_survey_specimen_data_20??-20??.csv"
   ]
  },
  {
   "cell_type": "code",
   "execution_count": 39,
   "metadata": {},
   "outputs": [],
   "source": [
    "# Make new directory for ROPs and maps\n",
    "!mkdir ../data/ADFG_SE_AK_pot_surveys/survey_information"
   ]
  },
  {
   "cell_type": "code",
   "execution_count": 40,
   "metadata": {},
   "outputs": [],
   "source": [
    "# Move ROPs and maps to new folder\n",
    "!mv ../data/ADFG_SE_AK_pot_surveys/ROP_*_2019_survey.pdf ../data/ADFG_SE_AK_pot_surveys/survey_information/\n",
    "!mv ../data/ADFG_SE_AK_pot_surveys/CTD_station_map.pdf ../data/ADFG_SE_AK_pot_surveys/survey_information/"
   ]
  }
 ],
 "metadata": {
  "kernelspec": {
   "display_name": "Python 3",
   "language": "python",
   "name": "python3"
  },
  "language_info": {
   "codemirror_mode": {
    "name": "ipython",
    "version": 3
   },
   "file_extension": ".py",
   "mimetype": "text/x-python",
   "name": "python",
   "nbconvert_exporter": "python",
   "pygments_lexer": "ipython3",
   "version": "3.8.3"
  }
 },
 "nbformat": 4,
 "nbformat_minor": 4
}

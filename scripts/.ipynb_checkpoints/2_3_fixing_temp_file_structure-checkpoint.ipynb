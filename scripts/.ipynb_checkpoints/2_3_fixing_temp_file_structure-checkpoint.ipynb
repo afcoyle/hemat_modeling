{
 "cells": [
  {
   "cell_type": "markdown",
   "metadata": {},
   "source": [
    "In the previous script, we cleaned our Tanner crab data. Now, it's time to address temperature. The temperature files are stored in some wildly disparate file structures, alternating often between years and occasionally within a single year. \n",
    "\n",
    "Our goal is as follows:\n",
    "\n",
    "- Ensure all files are the raw .txt files directly from the data logger. This will require eliminating numerous .dtf files, along with some Excel summary files\n",
    "\n",
    "- Change all file structures to the following format: year/survey/leg/.txt files\n",
    "\n",
    "- Change all .txt file names to be Tidbit number.txt (note:tidbit is the name of the data logger type). \n",
    "\n",
    "- Standardize all folder names. Ex: Tidbit 1 from Leg 2 of the 2015 RKC survey would be in 2015/RKC/Leg_2/1.txt\n",
    "\n",
    "- Standardize names of skipper files (which match pots and Tidbit data). Standard will be simply be skipper_data, and it'll be inside the relevant folder\n",
    "\n",
    "When an already-amalgamated file contains both the skipper and Tidbit info, we'll simply use that! We'll call it skipper_tidbit_data.xls We'll fix the file structure too though, just to be consistent. If we just have Tidbit data, we'll use that too - we'll call it tidbit_data.xls\n",
    "\n",
    "Summary of file structures is as follows. Note: this is approximate, as some years have different structures for the two surveys (one may be Tanner -> LegNum.txt, the other may be RKC -> Leg -> num.txt)\n",
    "\n",
    "Year -> Crab -> Leg -> num.txt\n",
    "2011\n",
    "2012\n",
    "2013\n",
    "2014\n",
    "2015\n",
    "2016\n",
    "2017\n",
    "2018\n",
    "2019\n",
    "\n",
    "Year -> CrabLeg -> num.txt\n",
    "2006\n",
    "2007\n",
    "2008\n",
    "2009\n",
    "2010\n",
    "2017\n",
    "\n",
    "\n",
    "Year -> num,date.txt\n",
    "2005"
   ]
  },
  {
   "cell_type": "markdown",
   "metadata": {},
   "source": [
    "# 2005\n",
    "\n",
    "Note: temperature data is only available for the Tanner crab survey. \n",
    "\n",
    "Dates for each leg are as follows:\n",
    "Leg 1: Oct. 7th-14th\n",
    "Leg 2: Oct. 20th-26th\n",
    "\n",
    "Dates on the filenames appear to be dates of download for the Tidbit files. Therefore, all with Oct19 in the filename are from Leg 1, and all with Oct29 in the filename are from Leg 2."
   ]
  },
  {
   "cell_type": "code",
   "execution_count": 1,
   "metadata": {},
   "outputs": [
    {
     "data": {
      "text/plain": [
       "'/mnt/c/Users/acoyl/Documents/GitHub/hemat_modeling/scripts'"
      ]
     },
     "execution_count": 1,
     "metadata": {},
     "output_type": "execute_result"
    }
   ],
   "source": [
    "pwd"
   ]
  },
  {
   "cell_type": "code",
   "execution_count": 2,
   "metadata": {},
   "outputs": [
    {
     "name": "stdout",
     "output_type": "stream",
     "text": [
      "/mnt/c/Users/acoyl/Documents/GitHub/hemat_modeling/data/ADFG_SE_AK_pot_surveys/Tidbits/2005\n"
     ]
    }
   ],
   "source": [
    "cd ../data/ADFG_SE_AK_pot_surveys/Tidbits/2005"
   ]
  },
  {
   "cell_type": "code",
   "execution_count": 205,
   "metadata": {},
   "outputs": [
    {
     "name": "stdout",
     "output_type": "stream",
     "text": [
      "05_Tanner_Survey_Skipper_Data.xls\n",
      "05_Tanner_Survey_Tidbit_and_Skipper_Data_Access_Prep.xls\n",
      "05_Tanner_Survey_Tidbit_and_Skipper_Joined_Edited.jmp\n",
      "05_Tanner_Tidbit_Data.xls\n",
      "T10,Oct19,2005.dtf\n",
      "T10,Oct192005.TXT\n",
      "T10,Oct292005.TXT\n",
      "T10,Oct292005.dtf\n",
      "T11,Oct192005.TXT\n",
      "T11,Oct192005.dtf\n",
      "T11,Oct292005.TXT\n",
      "T11,Oct292005.dtf\n",
      "T5,Oct192005.TXT\n",
      "T5,Oct192005.dtf\n",
      "T5,Oct292005.TXT\n",
      "T5,Oct292005.dtf\n",
      "T7,Oct192005.TXT\n",
      "T7,Oct192005.dtf\n",
      "T7,Oct292005.TXT\n",
      "T7,Oct292005.dtf\n",
      "T9,Oct292005.TXT\n",
      "T9,Oct292005.dtf\n",
      "Tanner_survey\n",
      "Temperature_Logger_Database.mdb\n",
      "Tidbit_protocol.doc\n"
     ]
    }
   ],
   "source": [
    "!ls\n",
    "# We want the skipper data and the .txt files\n",
    "# Everything else can be tossed"
   ]
  },
  {
   "cell_type": "code",
   "execution_count": null,
   "metadata": {},
   "outputs": [],
   "source": [
    "!rm *.dtf\n",
    "!rm *.jmp\n",
    "!rm *.mdb\n",
    "!rm *.doc\n",
    "!rm 05_Tanner_Tidbit_Data.xls"
   ]
  },
  {
   "cell_type": "code",
   "execution_count": 199,
   "metadata": {},
   "outputs": [],
   "source": [
    "mkdir Tanner_survey"
   ]
  },
  {
   "cell_type": "code",
   "execution_count": 208,
   "metadata": {},
   "outputs": [],
   "source": [
    "# Move all .txt files to the Tanner_survey folder\n",
    "!mv *.TXT Tanner_survey"
   ]
  },
  {
   "cell_type": "code",
   "execution_count": 209,
   "metadata": {},
   "outputs": [],
   "source": [
    "# Rename skipper data form, move into Tanner survey folder\n",
    "!mv 05_Tanner_Survey_Skipper_Data.xls Tanner_survey/skipper_data.xls\n",
    "!mv 05_Tanner_Survey_Tidbit_and_Skipper_Data_Access_Prep.xls Tanner_survey/skipper_tidbit_data.xls"
   ]
  },
  {
   "cell_type": "code",
   "execution_count": 3,
   "metadata": {},
   "outputs": [
    {
     "name": "stdout",
     "output_type": "stream",
     "text": [
      "/mnt/c/Users/acoyl/Documents/GitHub/hemat_modeling/data/ADFG_SE_AK_pot_surveys/Tidbits/2005/Tanner_survey\n"
     ]
    }
   ],
   "source": [
    "# Move into that Tanner_survey folder\n",
    "%cd Tanner_survey/"
   ]
  },
  {
   "cell_type": "code",
   "execution_count": 4,
   "metadata": {},
   "outputs": [
    {
     "name": "stdout",
     "output_type": "stream",
     "text": [
      "Leg_1  Leg_2  skipper_data.xls\tskipper_tidbit_data.xls\n"
     ]
    }
   ],
   "source": [
    "!ls"
   ]
  },
  {
   "cell_type": "code",
   "execution_count": 212,
   "metadata": {},
   "outputs": [],
   "source": [
    "# Create new directories for each leg\n",
    "!mkdir Leg_1\n",
    "!mkdir Leg_2"
   ]
  },
  {
   "cell_type": "code",
   "execution_count": 213,
   "metadata": {},
   "outputs": [],
   "source": [
    "# Move all files with Oct19 into Leg_1\n",
    "!mv *Oct19*.TXT Leg_1"
   ]
  },
  {
   "cell_type": "code",
   "execution_count": 5,
   "metadata": {},
   "outputs": [
    {
     "name": "stdout",
     "output_type": "stream",
     "text": [
      "/mnt/c/Users/acoyl/Documents/GitHub/hemat_modeling/data/ADFG_SE_AK_pot_surveys/Tidbits/2005/Tanner_survey/Leg_1\n"
     ]
    }
   ],
   "source": [
    "# Move into the Leg 1 folder\n",
    "%cd Leg_1"
   ]
  },
  {
   "cell_type": "code",
   "execution_count": 215,
   "metadata": {},
   "outputs": [],
   "source": [
    "# Rename all files to strip everything except the number and the .txt\n",
    "# Ex: T5,Oct192005.TXT -> 5.txt\n",
    "# We just have four files, so instead of setting up a Bash script, we'll do them individually\n",
    "!mv T5,Oct192005.TXT 5.txt\n",
    "!mv T7,Oct192005.TXT 7.txt\n",
    "!mv T10,Oct192005.TXT 10.txt\n",
    "!mv T11,Oct192005.TXT 11.txt"
   ]
  },
  {
   "cell_type": "code",
   "execution_count": 6,
   "metadata": {},
   "outputs": [
    {
     "name": "stdout",
     "output_type": "stream",
     "text": [
      "\u001b[0m\u001b[01;32m10.txt\u001b[0m*  \u001b[01;32m11.txt\u001b[0m*  \u001b[01;32m5.txt\u001b[0m*  \u001b[01;32m7.txt\u001b[0m*\n"
     ]
    }
   ],
   "source": [
    "ls"
   ]
  },
  {
   "cell_type": "code",
   "execution_count": 7,
   "metadata": {},
   "outputs": [
    {
     "name": "stdout",
     "output_type": "stream",
     "text": [
      "/mnt/c/Users/acoyl/Documents/GitHub/hemat_modeling/data/ADFG_SE_AK_pot_surveys/Tidbits/2005/Tanner_survey\n"
     ]
    }
   ],
   "source": [
    "# Move out to encompassing folder\n",
    "%cd .."
   ]
  },
  {
   "cell_type": "code",
   "execution_count": 218,
   "metadata": {},
   "outputs": [
    {
     "name": "stdout",
     "output_type": "stream",
     "text": [
      "\u001b[0m\u001b[34;42mLeg_1\u001b[0m/              \u001b[01;32mT11,Oct292005.TXT\u001b[0m*  \u001b[01;32mT9,Oct292005.TXT\u001b[0m*\n",
      "\u001b[34;42mLeg_2\u001b[0m/              \u001b[01;32mT5,Oct292005.TXT\u001b[0m*   \u001b[01;32mskipper_data.xls\u001b[0m*\n",
      "\u001b[01;32mT10,Oct292005.TXT\u001b[0m*  \u001b[01;32mT7,Oct292005.TXT\u001b[0m*   \u001b[01;32mskipper_tidbit_data.xls\u001b[0m*\n"
     ]
    }
   ],
   "source": [
    "ls"
   ]
  },
  {
   "cell_type": "code",
   "execution_count": 219,
   "metadata": {},
   "outputs": [],
   "source": [
    "# Move all .txt files to Leg 2 folder\n",
    "!mv *.TXT Leg_2/"
   ]
  },
  {
   "cell_type": "code",
   "execution_count": 220,
   "metadata": {},
   "outputs": [
    {
     "name": "stdout",
     "output_type": "stream",
     "text": [
      "/mnt/c/Users/acoyl/Documents/GitHub/hemat_modeling/data/ADFG_SE_AK_pot_surveys/Tidbits/2005/Tanner_survey/Leg_2\n"
     ]
    }
   ],
   "source": [
    "%cd Leg_2"
   ]
  },
  {
   "cell_type": "code",
   "execution_count": 221,
   "metadata": {},
   "outputs": [],
   "source": [
    "# Rename all files to strip everything except the number and the .txt\n",
    "# We just have five files, so instead of setting up a Bash script, we'll do them individually\n",
    "!mv T5,Oct292005.TXT 5.txt\n",
    "!mv T7,Oct292005.TXT 7.txt\n",
    "!mv T9,Oct292005.TXT 9.txt\n",
    "!mv T10,Oct292005.TXT 10.txt\n",
    "!mv T11,Oct292005.TXT 11.txt"
   ]
  },
  {
   "cell_type": "code",
   "execution_count": 8,
   "metadata": {},
   "outputs": [
    {
     "name": "stdout",
     "output_type": "stream",
     "text": [
      "[Errno 2] No such file or directory: '../../../2006'\n",
      "/mnt/c/Users/acoyl/Documents/GitHub/hemat_modeling/data/ADFG_SE_AK_pot_surveys/Tidbits/2005/Tanner_survey\n"
     ]
    }
   ],
   "source": [
    "# Done! That was a tricky one. Moving out to the 2006 folder now\n",
    "%cd ../../../2006"
   ]
  },
  {
   "cell_type": "markdown",
   "metadata": {},
   "source": [
    "# 2006\n",
    "\n",
    "Alright, this one will be simpler"
   ]
  },
  {
   "cell_type": "code",
   "execution_count": 223,
   "metadata": {},
   "outputs": [
    {
     "name": "stdout",
     "output_type": "stream",
     "text": [
      "06_RKC_Leg_1,2,3_Skipper_Data.xls\n",
      "06_RKC_Leg_1,2,3_Skipper_and_Tidbit_Joined_Access_prep.xls\n",
      "06_RKC_Leg_1,2,3_Tidbit_Data.xls\n",
      "06_RKC_Survey_Leg_1,2,3_Skipper_and_Tidbit_Joined.jmp\n",
      "06_Shrimp_Survey_Leg_1_Access_Prep.xls\n",
      "06_Shrimp_Survey_Leg_1_END_TB_Data.xls\n",
      "06_Shrimp_Survey_Leg_1_STRT_TB_Data.xls\n",
      "06_Shrimp_Survey_Leg_1_Skipper_Data.xls\n",
      "06_Shrimp_Survey_Leg_1_Skipper_Data_STRT_TB.xls\n",
      "06_Shrimp_Survey_Leg_1_Skipper_and_Tidbit_END_Data.jmp\n",
      "06_Shrimp_Survey_Leg_1_Skipper_and_Tidbit_STRT_Data.jmp\n",
      "06_Shrimp_Survey_Leg_1_Tidbit_Data.xls\n",
      "06_Tanner_Survey_L_1,2_Access_Prep.xls\n",
      "06_Tanner_Survey_L_1,2_Tidbit_Data.xls\n",
      "06_Tanner_Survey_L_1,_2_Tidbit_and_Skipper_Joined.JMP\n",
      "06_Tanner_Survey_L_1,_2_Tidbit_and_Skipper_Joined_edited.JMP\n",
      "06_Tanner_Survey_Skipper_Data.xls\n",
      "RKC_Survey_Leg_2_2006\n",
      "RKC_Survey_Leg_3_2006\n",
      "RKC_survey_leg_1_2006\n",
      "Shrimp_Survey_Leg_1_2006\n",
      "T11.TXT\n",
      "Tanner_survey_leg_1_2006\n",
      "Tanner_survey_leg_2_2006\n",
      "Temperature_database.xls\n",
      "Tidbit_protocol.doc\n",
      "Tidbit_protocolv2.doc\n",
      "Tidbit_template.xls\n",
      "'~WRL0192.tmp'\n",
      "'~WRL3667.tmp'\n"
     ]
    }
   ],
   "source": [
    "!ls"
   ]
  },
  {
   "cell_type": "code",
   "execution_count": null,
   "metadata": {},
   "outputs": [],
   "source": [
    "# Remove the following files and directories\n",
    "!rm -r Shrimp_Survey_Leg_1_2006/\n",
    "!rm *.tmp\n",
    "!rm *.JMP\n",
    "!rm *.jmp\n",
    "!rm 06_Shrimp*.xls\n",
    "!rm *.doc\n",
    "!rm Temperature_database.xls\n",
    "!rm Tidbit_template.xls\n",
    "!rm T11.txt\n",
    "!rm 06_RKC_Leg_1,2,3_Tidbit_Data.xls\n",
    "!rm 06_Tanner_Survey_L_1,2_Tidbit_Data.xls"
   ]
  },
  {
   "cell_type": "code",
   "execution_count": 228,
   "metadata": {},
   "outputs": [],
   "source": [
    "# Make new directories for each survey type\n",
    "!mkdir Tanner_survey\n",
    "!mkdir RKC_survey"
   ]
  },
  {
   "cell_type": "code",
   "execution_count": 229,
   "metadata": {},
   "outputs": [],
   "source": [
    "# Move folders and files into correct directories, renaming along way\n",
    "!mv RKC_*Leg* RKC_survey\n",
    "!mv RKC_survey_leg_1_2006/ RKC_survey\n",
    "!mv Tanner_survey_leg* Tanner_survey\n",
    "!mv 06_Tanner_Survey_Skipper_Data.xls Tanner_survey/skipper_data.xls\n",
    "!mv 06_RKC_Leg_1,2,3_Skipper_Data.xls RKC_survey/skipper_data.xls\n",
    "!mv 06_Tanner_Survey_L_1,2_Access_Prep.xls Tanner_survey/skipper_tidbit_data.xls\n",
    "!mv 06_RKC_Leg_1,2,3_Skipper_and_Tidbit_Joined_Access_prep.xls RKC_survey/skipper_tidbit_data.xls"
   ]
  },
  {
   "cell_type": "code",
   "execution_count": 9,
   "metadata": {},
   "outputs": [
    {
     "name": "stdout",
     "output_type": "stream",
     "text": [
      "[Errno 2] No such file or directory: 'RKC_survey/'\n",
      "/mnt/c/Users/acoyl/Documents/GitHub/hemat_modeling/data/ADFG_SE_AK_pot_surveys/Tidbits/2005/Tanner_survey\n"
     ]
    }
   ],
   "source": [
    "%cd RKC_survey/"
   ]
  },
  {
   "cell_type": "code",
   "execution_count": 231,
   "metadata": {},
   "outputs": [],
   "source": [
    "# Rename files for each leg\n",
    "!mv RKC_survey_leg_1_2006/ Leg_1\n",
    "!mv RKC_Survey_Leg_2_2006/ Leg_2\n",
    "!mv RKC_Survey_Leg_3_2006/ Leg_3"
   ]
  },
  {
   "cell_type": "code",
   "execution_count": 232,
   "metadata": {},
   "outputs": [],
   "source": [
    "# Remove .dtf files in each leg folder, along with an Excel doc\n",
    "!rm */*.dtf\n",
    "!rm */*.DTF\n",
    "!rm */*.xls"
   ]
  },
  {
   "cell_type": "code",
   "execution_count": 11,
   "metadata": {},
   "outputs": [
    {
     "name": "stdout",
     "output_type": "stream",
     "text": [
      "/mnt/c/Users/acoyl/Documents/GitHub/hemat_modeling/data/ADFG_SE_AK_pot_surveys/Tidbits/2006/RKC_survey/Leg_1\n",
      "/mnt/c/Users/acoyl/Documents/GitHub/hemat_modeling/data/ADFG_SE_AK_pot_surveys/Tidbits/2006/RKC_survey\n"
     ]
    }
   ],
   "source": [
    "# Leg 1: Need to remove the T prefix, then all good\n",
    "%cd Leg_1/\n",
    "!rename 's/T//' T*.TXT\n",
    "%cd .."
   ]
  },
  {
   "cell_type": "code",
   "execution_count": 233,
   "metadata": {},
   "outputs": [
    {
     "name": "stdout",
     "output_type": "stream",
     "text": [
      "/mnt/c/Users/acoyl/Documents/GitHub/hemat_modeling/data/ADFG_SE_AK_pot_surveys/Tidbits/2006/RKC_survey/Leg_2\n",
      "/mnt/c/Users/acoyl/Documents/GitHub/hemat_modeling/data/ADFG_SE_AK_pot_surveys/Tidbits/2006/RKC_survey/Leg_3\n"
     ]
    }
   ],
   "source": [
    "\n",
    "# Leg 2 and 3 still have issues\n",
    "# Ex: Leg 2, Tidbit 1 is T1T22006.\n",
    "# Need to remove the first T, and everything after the 2nd T\n",
    "# Note: will use rename command. Not part of base Linux, but install with sudo apt install rename\n",
    "\n",
    "# Fix Leg 2\n",
    "%cd Leg_2\n",
    "!rename 's/T206//' *T206.TXT\n",
    "!rename 's/T22006//' *T22006.TXT\n",
    "!rename 's/T//' T*.TXT\n",
    "%cd ../Leg_3\n"
   ]
  },
  {
   "cell_type": "code",
   "execution_count": 234,
   "metadata": {},
   "outputs": [],
   "source": [
    "# Fix Leg 3\n",
    "!rename 's/T306//' *T306.TXT\n",
    "!rename 's/T//' T*.TXT"
   ]
  },
  {
   "cell_type": "code",
   "execution_count": 235,
   "metadata": {},
   "outputs": [
    {
     "name": "stdout",
     "output_type": "stream",
     "text": [
      "/mnt/c/Users/acoyl/Documents/GitHub/hemat_modeling/data/ADFG_SE_AK_pot_surveys/Tidbits/2006/Tanner_survey\n"
     ]
    }
   ],
   "source": [
    "# Moving on to Tanner data for 2006\n",
    "%cd ../../Tanner_survey/"
   ]
  },
  {
   "cell_type": "code",
   "execution_count": 236,
   "metadata": {},
   "outputs": [],
   "source": [
    "# Rename folders\n",
    "!mv Tanner_survey_leg_1_2006/ Leg_1/\n",
    "!mv Tanner_survey_leg_2_2006/ Leg_2/"
   ]
  },
  {
   "cell_type": "code",
   "execution_count": null,
   "metadata": {},
   "outputs": [],
   "source": [
    "# Remove .dtf files\n",
    "!rm */*.dtf"
   ]
  },
  {
   "cell_type": "markdown",
   "metadata": {},
   "source": [
    "Done with 2006! Moving on to 2007"
   ]
  },
  {
   "cell_type": "markdown",
   "metadata": {},
   "source": [
    "# 2007\n"
   ]
  },
  {
   "cell_type": "code",
   "execution_count": 238,
   "metadata": {},
   "outputs": [
    {
     "name": "stdout",
     "output_type": "stream",
     "text": [
      "/mnt/c/Users/acoyl/Documents/GitHub/hemat_modeling/data/ADFG_SE_AK_pot_surveys/Tidbits/2007\n"
     ]
    }
   ],
   "source": [
    "%cd ../../2007"
   ]
  },
  {
   "cell_type": "code",
   "execution_count": 239,
   "metadata": {},
   "outputs": [
    {
     "name": "stdout",
     "output_type": "stream",
     "text": [
      "06_Shrimp_Survey_L_3,4_Tidbit_and_Skipper_Joined_Edited.jmp\n",
      "07_RKC_L_1,_2,_3_Skipper_Data.xls\n",
      "07_RKC_Survey_L_1,_2,_3_Tidbit_Data.xls\n",
      "07_RKC_Survey_L_1,_2,_3_Tidbit_and_Skipper_Joined.JMP\n",
      "07_RKC_Survey_L_1,_2,_3_Tidbit_and_Skipper_Joined_Access_Prep.xls\n",
      "07_RKC_Survey_L_1,_2,_3_Tidbit_and_Skipper_Joined_edited.JMP\n",
      "07_Shrimp_Survey_Leg_3,4_Access_Prep.xls\n",
      "07_Shrimp_Survey_Leg_3,4_Skipper_Data.xls\n",
      "07_Shrimp_Survey_Leg_3,4_Tidbit_Data.xls\n",
      "07_TC_Survey_L1,2_Skipper_Data.jmp\n",
      "07_TC_Survey_L1,2_Tidbit_Data.jmp\n",
      "07_TC_Survey_L1,2_Tidibit_and_Skipper_Joined.jmp\n",
      "07_Tanner_L_1,2_Skipper_Data.xls\n",
      "07_Tanner_L_1,2_Tidbit_Data.xlsx\n",
      "RKC_Survey_Leg_1_2007\n",
      "RKC_Survey_Leg_2_2007\n",
      "RKC_Survey_Leg_3_2007\n",
      "Shrimp_Survey_Leg_3_2007\n",
      "Shrimp_survey_Leg_4_2007\n",
      "Tanner_Survey_Leg_2_2007\n",
      "Tanner_survey_leg_1_2007\n"
     ]
    }
   ],
   "source": [
    "!ls"
   ]
  },
  {
   "cell_type": "code",
   "execution_count": 240,
   "metadata": {},
   "outputs": [],
   "source": [
    "# Remove the following files and directories\n",
    "!rm -r Shrimp_*\n",
    "!rm 07_Shrimp_*\n",
    "!rm 06_Shrimp_*\n",
    "!rm *.JMP\n",
    "!rm *.jmp\n",
    "!rm 07_RKC_Survey_L_1,_2,_3_Tidbit_Data.xls"
   ]
  },
  {
   "cell_type": "code",
   "execution_count": 242,
   "metadata": {},
   "outputs": [],
   "source": [
    "# Make new directories for each survey type\n",
    "!mkdir Tanner_survey\n",
    "!mkdir RKC_survey"
   ]
  },
  {
   "cell_type": "code",
   "execution_count": null,
   "metadata": {},
   "outputs": [],
   "source": [
    "# Move folders and files into correct directories\n",
    "!mv RKC_Survey_Leg* RKC_survey\n",
    "!mv Tanner_*_2007/ Tanner_survey\n",
    "!mv 07_Tanner_L_1,2_Skipper_Data.xls Tanner_survey/skipper_data.xls\n",
    "!mv 07_RKC_L_1,_2,_3_Skipper_Data.xls RKC_survey/skipper_data.xls\n",
    "!mv 07_RKC_Survey_L_1,_2,_3_Tidbit_and_Skipper_Joined_Access_Prep.xls RKC_survey/skipper_tidbit_data.xls\n",
    "!mv 07_Tanner_L_1,2_Tidbit_Data.xlsx Tanner_survey/tidbit_data.xls"
   ]
  },
  {
   "cell_type": "code",
   "execution_count": 244,
   "metadata": {},
   "outputs": [
    {
     "name": "stdout",
     "output_type": "stream",
     "text": [
      "/mnt/c/Users/acoyl/Documents/GitHub/hemat_modeling/data/ADFG_SE_AK_pot_surveys/Tidbits/2007/RKC_survey\n"
     ]
    }
   ],
   "source": [
    "%cd RKC_survey/"
   ]
  },
  {
   "cell_type": "code",
   "execution_count": 245,
   "metadata": {},
   "outputs": [],
   "source": [
    "# Rename files for each leg\n",
    "!mv RKC_Survey_Leg_1_2007/ Leg_1\n",
    "!mv RKC_Survey_Leg_2_2007/ Leg_2\n",
    "!mv RKC_Survey_Leg_3_2007/ Leg_3"
   ]
  },
  {
   "cell_type": "code",
   "execution_count": 246,
   "metadata": {},
   "outputs": [],
   "source": [
    "# Remove .dtf files in each leg folder, along with an Excel doc\n",
    "!rm */*.dtf\n",
    "!rm */*.xls"
   ]
  },
  {
   "cell_type": "code",
   "execution_count": 253,
   "metadata": {},
   "outputs": [
    {
     "name": "stdout",
     "output_type": "stream",
     "text": [
      "/mnt/c/Users/acoyl/Documents/GitHub/hemat_modeling/data/ADFG_SE_AK_pot_surveys/Tidbits/2007/RKC_survey/Leg_1\n"
     ]
    }
   ],
   "source": [
    "# Legs 1, 2, and 3 all have various issues. Renaming to standardize\n",
    "# Note: will use rename command. Not part of base Linux, but install with sudo apt install rename\n",
    "\n",
    "# First, fix Leg 1\n",
    "# The _07 ending isn't used in the skipper_tidbit Excel sheet, so we'll remove\n",
    "%cd Leg_1\n",
    "!rename 's/_07//' *_07.TXT"
   ]
  },
  {
   "cell_type": "code",
   "execution_count": 250,
   "metadata": {},
   "outputs": [
    {
     "name": "stdout",
     "output_type": "stream",
     "text": [
      "/mnt/c/Users/acoyl/Documents/GitHub/hemat_modeling/data/ADFG_SE_AK_pot_surveys/Tidbits/2007/RKC_survey/Leg_2\n"
     ]
    }
   ],
   "source": [
    "# Fix Leg 2\n",
    "%cd ../Leg_2/\n",
    "!rename 's/_62807//' *_62807.TXT\n",
    "!rename 's/62907//' *62907.TXT\n",
    "!rename 's/62807//' *62807.TXT\n",
    "!rename 's/T//' T*.TXT\n",
    "# Tidbit 20-07 isn't present on the skipper or skipper/tidbit data sheets\n",
    "# Assumption: it's a real tidbit that was downloaded by mistake despite having no data\n",
    "# Therefore, remove\n",
    "!rm 20-07.txt"
   ]
  },
  {
   "cell_type": "code",
   "execution_count": 257,
   "metadata": {},
   "outputs": [
    {
     "name": "stdout",
     "output_type": "stream",
     "text": [
      "/mnt/c/Users/acoyl/Documents/GitHub/hemat_modeling/data/ADFG_SE_AK_pot_surveys/Tidbits/2007/RKC_survey/Leg_3\n"
     ]
    }
   ],
   "source": [
    "# Fix Leg 3\n",
    "%cd ../Leg_3/\n",
    "!rename 's/71907//' *71907.TXT\n",
    "!rename 's/T//' T*.TXT"
   ]
  },
  {
   "cell_type": "code",
   "execution_count": 258,
   "metadata": {},
   "outputs": [
    {
     "name": "stdout",
     "output_type": "stream",
     "text": [
      "/mnt/c/Users/acoyl/Documents/GitHub/hemat_modeling/data/ADFG_SE_AK_pot_surveys/Tidbits/2007/Tanner_survey\n"
     ]
    }
   ],
   "source": [
    "# Moving on to Tanner data\n",
    "%cd ../../Tanner_survey/"
   ]
  },
  {
   "cell_type": "code",
   "execution_count": 259,
   "metadata": {},
   "outputs": [],
   "source": [
    "# Rename folders\n",
    "!mv Tanner_survey_leg_1_2007/ Leg_1/\n",
    "!mv Tanner_Survey_Leg_2_2007/ Leg_2/"
   ]
  },
  {
   "cell_type": "code",
   "execution_count": 260,
   "metadata": {},
   "outputs": [],
   "source": [
    "# Remove .dtf files\n",
    "!rm */*.dtf"
   ]
  },
  {
   "cell_type": "code",
   "execution_count": 264,
   "metadata": {},
   "outputs": [
    {
     "name": "stdout",
     "output_type": "stream",
     "text": [
      "/mnt/c/Users/acoyl/Documents/GitHub/hemat_modeling/data/ADFG_SE_AK_pot_surveys/Tidbits/2008\n"
     ]
    }
   ],
   "source": [
    "# No file renaming needed! Note: all files ending in _07 are real Tidbits - cross referenced with the skipper data!\n",
    "# Alright, done! On to 2008\n",
    "%cd ../../2008/"
   ]
  },
  {
   "cell_type": "markdown",
   "metadata": {},
   "source": [
    "# 2008"
   ]
  },
  {
   "cell_type": "code",
   "execution_count": 265,
   "metadata": {},
   "outputs": [
    {
     "name": "stdout",
     "output_type": "stream",
     "text": [
      "08_RKC_Legs_1,2,3_Temp,Skip_joined.JMP\n",
      "08_RKC_Legs_1,2,3_Temp,Skip_joined_edited.JMP\n",
      "08_RKC_Survey_Leg_1,_2,_3,_Access_Prep.xls\n",
      "08_Shrimp_Survey_L2_Tidbit_Data.xls\n",
      "08_Shrimp_Survey_L2_Tidbit_and_Skipper_Joined_STRT_END_TB_Access_Prep.xls\n",
      "08_Shrimp_Survey_Leg_2_Tidbit_and_Skipper_Joined_END_TB.jmp\n",
      "08_Shrimp_Survey_Leg_2_Tidbit_and_Skipper_Joined_STRT_TB.jmp\n",
      "08_Shrimp_Survey_Skipper_Data.xls\n",
      "08_Tanner_Survey_Leg_1,_2_Access_Prep.xls\n",
      "08_Tanner_Survey_Leg_1,_2_Skipper_Data.xls\n",
      "08_Tanner_Survey_Leg_1,_2_Tidbit_Data.xls\n",
      "08_Tanner_Survey_Leg_1,_2_Tidbit_and_Skipper_Joined.JMP\n",
      "08_Tanner_Survey_Leg_1,_2_Tidbit_and_Skipper_Joined_Edited.JMP\n",
      "2008_RKC_Skipper_Data.xls\n",
      "2008_RKC_Skipper_Data_for_Access_4.xls\n",
      "2008_RKC_Tidbit_Data_for_Access.xls\n",
      "22_07.TXT\n",
      "GKC_Observer_Program_08\n",
      "RKC_2008_Linked_temp_skipper.xls\n",
      "RKC_Survey_Leg_1_2008\n",
      "RKC_Survey_Leg_2_2008\n",
      "RKC_Survey_Leg_3_2008\n",
      "Shrimp_Survey_Leg_1,2_2008\n",
      "Shrimp_Survey_Leg_2_2008\n",
      "Skipper_Data_Template_for_Access_Temperature.xls\n",
      "Tanner_Survey_Leg_1_2008\n",
      "Tanner_Survey_Leg_2_2008\n",
      "Tidbit_Data_template_for_Access_temperature.xls\n"
     ]
    }
   ],
   "source": [
    "!ls"
   ]
  },
  {
   "cell_type": "code",
   "execution_count": 266,
   "metadata": {},
   "outputs": [],
   "source": [
    "# Remove the following files and directories\n",
    "!rm -r Shrimp_*\n",
    "!rm -r GKC_Observer_Program_08/\n",
    "!rm *.JMP\n",
    "!rm *.jmp\n",
    "!rm 08_Shrimp_*\n",
    "!rm *emplate_for_Access_*.xls\n",
    "!rm 2008_RKC_Skipper_Data.xls\n",
    "!rm RKC_2008_Linked_temp_skipper.xls\n",
    "# Have a Tidbit file in this directory, but it's from September, when neither the RKC or Tanner surveys were happening. Remove it\n",
    "!rm 22_07.txt"
   ]
  },
  {
   "cell_type": "code",
   "execution_count": 273,
   "metadata": {},
   "outputs": [],
   "source": [
    "# Make new directories for each survey type\n",
    "!mkdir Tanner_survey\n",
    "!mkdir RKC_survey"
   ]
  },
  {
   "cell_type": "code",
   "execution_count": null,
   "metadata": {},
   "outputs": [],
   "source": [
    "# Move folders and files into correct directories\n",
    "!mv RKC_Survey_Leg* RKC_survey\n",
    "!mv Tanner_Survey_Leg*/ Tanner_survey\n",
    "!mv 08_Tanner_Survey_Leg_1,_2_Skipper_Data.xls Tanner_survey/skipper_data.xls\n",
    "!mv 2008_RKC_Skipper_Data_for_Access_4.xls RKC_survey/skipper_data.xls\n",
    "!mv 08_RKC_Survey_Leg_1,_2,_3,_Access_Prep.xls RKC_survey/skipper_tidbit_data.xls\n",
    "!mv 08_Tanner_Survey_Leg_1,_2_Access_Prep.xls Tanner_survey/skipper_tidbit_data.xls\n",
    "!mv 08_Tanner_Survey_Leg_1,_2_Tidbit_Data.xls Tanner_survey/tidbit_data.xls\n",
    "!mv 2008_RKC_Tidbit_Data_for_Access.xls RKC_survey/tidbit_data.xls"
   ]
  },
  {
   "cell_type": "code",
   "execution_count": 277,
   "metadata": {},
   "outputs": [
    {
     "name": "stdout",
     "output_type": "stream",
     "text": [
      "/mnt/c/Users/acoyl/Documents/GitHub/hemat_modeling/data/ADFG_SE_AK_pot_surveys/Tidbits/2008/RKC_survey\n"
     ]
    }
   ],
   "source": [
    "%cd RKC_survey/"
   ]
  },
  {
   "cell_type": "code",
   "execution_count": 278,
   "metadata": {},
   "outputs": [],
   "source": [
    "# Rename files for each leg\n",
    "!mv RKC_Survey_Leg_1_2008/ Leg_1\n",
    "!mv RKC_Survey_Leg_2_2008/ Leg_2\n",
    "!mv RKC_Survey_Leg_3_2008/ Leg_3"
   ]
  },
  {
   "cell_type": "code",
   "execution_count": 279,
   "metadata": {},
   "outputs": [],
   "source": [
    "# Remove .dtf files in each leg folder, along with an Excel doc\n",
    "!rm */*.dtf\n",
    "!rm */*.xls"
   ]
  },
  {
   "cell_type": "code",
   "execution_count": 280,
   "metadata": {},
   "outputs": [],
   "source": [
    "# Leg 1 and 2 have a summary .txt file that we'll remove\n",
    "# Otherwise, all good!\n",
    "!rm Leg_1/RKC_L1_2008.TXT\n",
    "!rm Leg_2/RKC_2008_L2.TXT"
   ]
  },
  {
   "cell_type": "code",
   "execution_count": 282,
   "metadata": {},
   "outputs": [
    {
     "name": "stdout",
     "output_type": "stream",
     "text": [
      "/mnt/c/Users/acoyl/Documents/GitHub/hemat_modeling/data/ADFG_SE_AK_pot_surveys/Tidbits/2008/Tanner_survey\n"
     ]
    }
   ],
   "source": [
    "# Moving on to Tanner data\n",
    "%cd ../Tanner_survey/"
   ]
  },
  {
   "cell_type": "code",
   "execution_count": 283,
   "metadata": {},
   "outputs": [],
   "source": [
    "# Rename folders\n",
    "!mv Tanner_survey_Leg_1_2008/ Leg_1/\n",
    "!mv Tanner_Survey_Leg_2_2008/ Leg_2/"
   ]
  },
  {
   "cell_type": "code",
   "execution_count": 284,
   "metadata": {},
   "outputs": [],
   "source": [
    "# Remove .dtf files\n",
    "!rm */*.dtf"
   ]
  },
  {
   "cell_type": "code",
   "execution_count": 290,
   "metadata": {},
   "outputs": [
    {
     "name": "stdout",
     "output_type": "stream",
     "text": [
      "/mnt/c/Users/acoyl/Documents/GitHub/hemat_modeling/data/ADFG_SE_AK_pot_surveys/Tidbits/2008/Tanner_survey/Leg_1\n"
     ]
    }
   ],
   "source": [
    "# Leg 1 needs the _07 removed from all except 20_07.txt\n",
    "%cd Leg_1"
   ]
  },
  {
   "cell_type": "code",
   "execution_count": 294,
   "metadata": {},
   "outputs": [],
   "source": [
    "# Change 20_07 to something random, remove the _07, then return it back\n",
    "!mv 20_07.TXT 20_real.txt\n",
    "!rename 's/_07//' *_07.TXT\n",
    "!mv 20_real.txt 20_07.txt"
   ]
  },
  {
   "cell_type": "code",
   "execution_count": 297,
   "metadata": {},
   "outputs": [
    {
     "name": "stdout",
     "output_type": "stream",
     "text": [
      "/mnt/c/Users/acoyl/Documents/GitHub/hemat_modeling/data/ADFG_SE_AK_pot_surveys/Tidbits/2008/Tanner_survey/Leg_2\n"
     ]
    }
   ],
   "source": [
    "# Alright, now for Leg 2 of the Tanner crab survey\n",
    "%cd ../Leg_2"
   ]
  },
  {
   "cell_type": "code",
   "execution_count": 302,
   "metadata": {},
   "outputs": [
    {
     "name": "stdout",
     "output_type": "stream",
     "text": [
      "Can't rename *1008.TXT *.TXT: No such file or directory\n",
      "Can't rename T*.TXT *.TXT: No such file or directory\n",
      "Can't rename *07.TXT *.TXT: No such file or directory\n"
     ]
    }
   ],
   "source": [
    "!rename 's/1008//' *1008.TXT\n",
    "!rename 's/T//' T*.TXT\n",
    "!rename 's/07.TXT/.TXT/' *07.TXT\n",
    "!mv 710.TXT 7.TXT\n",
    "!mv 200710.TXT 20_07.TXT"
   ]
  },
  {
   "cell_type": "code",
   "execution_count": 303,
   "metadata": {},
   "outputs": [
    {
     "name": "stdout",
     "output_type": "stream",
     "text": [
      "/mnt/c/Users/acoyl/Documents/GitHub/hemat_modeling/data/ADFG_SE_AK_pot_surveys/Tidbits/2009\n"
     ]
    }
   ],
   "source": [
    "# Alright, done! On to 2009\n",
    "%cd ../../../2009/"
   ]
  },
  {
   "cell_type": "markdown",
   "metadata": {},
   "source": [
    "# 2009"
   ]
  },
  {
   "cell_type": "code",
   "execution_count": 304,
   "metadata": {},
   "outputs": [
    {
     "name": "stdout",
     "output_type": "stream",
     "text": [
      "09_RKC_Survey_Leg_1,2,3_Skipper_Data.xls\n",
      "09_RKC_Survey_Leg_1,2,3_Skipper_and_Temp_Data_Edited.jmp\n",
      "09_RKC_Survey_Leg_1,2,3_Skipper_and_Temp_Data_Joined.jmp\n",
      "09_RKC_Survey_Leg_1,2,3_Skipper_and_Temp_Joined_Access_Prep.xls\n",
      "09_RKC_Survey_Leg_1,2,3_Temp_Data.xls\n",
      "09_Shrimp_Survey_Leg_1,2_Temp_Data.xls\n",
      "09_Tanner_Survey_Leg_1,2_Skipper_Data.xls\n",
      "09_Tanner_Survey_Leg_1,2_Skipper_and_Temp_Data_Edited.jmp\n",
      "09_Tanner_Survey_Leg_1,2_Skipper_and_Temp_Joined_Access_Prep.xls\n",
      "09_Tanner_Survey_Leg_1,2_Temp_Data.xls\n",
      "GKC_Observer_Program_09\n",
      "Pilot_Project_Lynn_Sisters__09_Temp_Data\n",
      "RKC_1B\n",
      "RKC_L1_09\n",
      "RKC_L2_09\n",
      "RKC_L3_09\n",
      "Shrimp_Survey_Leg_1_09\n",
      "Shrimp_Survey_Leg_2_09\n",
      "Shrimp_Survey_Leg_3_09\n",
      "Shrimp_Survey_Leg_4_09\n",
      "Tanner_L1_09\n",
      "Tanner_L2_09\n"
     ]
    }
   ],
   "source": [
    "!ls"
   ]
  },
  {
   "cell_type": "code",
   "execution_count": 306,
   "metadata": {},
   "outputs": [
    {
     "name": "stdout",
     "output_type": "stream",
     "text": [
      "rm: cannot remove 'Shrimp_*': No such file or directory\n",
      "rm: cannot remove 'Pilot_Project_Lynn_Sisters__09_Temp_Data/': No such file or directory\n"
     ]
    }
   ],
   "source": [
    "# Remove the following files and directories\n",
    "!rm -r Shrimp_*\n",
    "!rm -r GKC_Observer_Program_09/\n",
    "!rm -r Pilot_Project_Lynn_Sisters__09_Temp_Data/\n",
    "!rm *.jmp\n",
    "!rm 09_Shrimp\n",
    "# Looked up RKC_1B and it took place between legs of the RKC survey, with \n",
    "# no matching entries in the skipper/tidbit data. Therefore removing\n",
    "!rm -r RKC_1B"
   ]
  },
  {
   "cell_type": "code",
   "execution_count": 311,
   "metadata": {},
   "outputs": [],
   "source": [
    "# Make new directories for each survey type\n",
    "!mkdir Tanner_survey\n",
    "!mkdir RKC_survey"
   ]
  },
  {
   "cell_type": "code",
   "execution_count": null,
   "metadata": {},
   "outputs": [],
   "source": [
    "# Move folders and files into correct directories\n",
    "!mv RKC_L* RKC_survey\n",
    "!mv Tanner_L*/ Tanner_survey\n",
    "!mv 09_Tanner_Survey_Leg_1,2_Skipper_Data.xls Tanner_survey/skipper_data.xls\n",
    "!mv 09_RKC_Survey_Leg_1,2,3_Skipper_Data.xls RKC_survey/skipper_data.xls\n",
    "!mv 09_Tanner_Survey_Leg_1,2_Skipper_and_Temp_Joined_Access_Prep.xls Tanner_survey/skipper_tidbit_data.xls\n",
    "!mv 09_RKC_Survey_Leg_1,2,3_Skipper_and_Temp_Joined_Access_Prep.xls RKC_survey/skipper_tidbit_data.xls\n",
    "!mv 09_Tanner_Survey_Leg_1,2_Temp_Data.xls Tanner_survey/tidbit_data.xls\n",
    "!mv 09_RKC_Survey_Leg_1,2,3_Temp_Data.xls RKC_survey/tidbit_data.xls"
   ]
  },
  {
   "cell_type": "code",
   "execution_count": 314,
   "metadata": {},
   "outputs": [
    {
     "name": "stdout",
     "output_type": "stream",
     "text": [
      "/mnt/c/Users/acoyl/Documents/GitHub/hemat_modeling/data/ADFG_SE_AK_pot_surveys/Tidbits/2009/RKC_survey\n"
     ]
    }
   ],
   "source": [
    "%cd RKC_survey/"
   ]
  },
  {
   "cell_type": "code",
   "execution_count": 315,
   "metadata": {},
   "outputs": [],
   "source": [
    "# Rename files for each leg\n",
    "!mv RKC_L1_09/ Leg_1\n",
    "!mv RKC_L2_09/ Leg_2\n",
    "!mv RKC_L3_09/ Leg_3"
   ]
  },
  {
   "cell_type": "code",
   "execution_count": 316,
   "metadata": {},
   "outputs": [],
   "source": [
    "# Remove .dtf files in each leg folder\n",
    "!rm */*.dtf"
   ]
  },
  {
   "cell_type": "code",
   "execution_count": 317,
   "metadata": {},
   "outputs": [],
   "source": [
    "# Leg 2 has a summary .xls file that we'll remove\n",
    "# Otherwise, no other weird files!\n",
    "!rm Leg_2/RKC_L2_09.xls"
   ]
  },
  {
   "cell_type": "code",
   "execution_count": null,
   "metadata": {},
   "outputs": [],
   "source": [
    "# Legs 2 and 3 are fine, but Leg 1 has some weird prefixes\n",
    "# Each file is prefixed by \"L1_\"\n",
    "%cd Leg_1\n",
    "!rename 's/L1_//' L1_*\n",
    "# Worked for almost all, but one has a _ instead of a _\n",
    "!mv _5.TXT 5.TXT"
   ]
  },
  {
   "cell_type": "code",
   "execution_count": 320,
   "metadata": {},
   "outputs": [
    {
     "name": "stdout",
     "output_type": "stream",
     "text": [
      "/mnt/c/Users/acoyl/Documents/GitHub/hemat_modeling/data/ADFG_SE_AK_pot_surveys/Tidbits/2009/Tanner_survey\n"
     ]
    }
   ],
   "source": [
    "# Moving on to Tanner data\n",
    "%cd ../../Tanner_survey/"
   ]
  },
  {
   "cell_type": "code",
   "execution_count": 321,
   "metadata": {},
   "outputs": [],
   "source": [
    "# Rename folders\n",
    "!mv Tanner_L1_09/ Leg_1/\n",
    "!mv Tanner_L2_09/ Leg_2/"
   ]
  },
  {
   "cell_type": "code",
   "execution_count": null,
   "metadata": {},
   "outputs": [],
   "source": [
    "# Remove .dtf files and .hobo files\n",
    "!rm */*.dtf\n",
    "!rm */*.hobo"
   ]
  },
  {
   "cell_type": "code",
   "execution_count": 324,
   "metadata": {},
   "outputs": [
    {
     "name": "stdout",
     "output_type": "stream",
     "text": [
      "/mnt/c/Users/acoyl/Documents/GitHub/hemat_modeling/data/ADFG_SE_AK_pot_surveys/Tidbits/2010\n"
     ]
    }
   ],
   "source": [
    "# Alright, done! On to 2010\n",
    "%cd ../../2010/"
   ]
  },
  {
   "cell_type": "markdown",
   "metadata": {},
   "source": [
    "# 2010"
   ]
  },
  {
   "cell_type": "code",
   "execution_count": 325,
   "metadata": {},
   "outputs": [
    {
     "name": "stdout",
     "output_type": "stream",
     "text": [
      "GKC_Observer_Program_10\t\t      Shrimp_L1,2_Skipper_Data.xls\n",
      "NPRB_RKC_Temps\t\t\t      Shrimp_L1,2_Skipper_and_Tidbit_Joined.jmp\n",
      "RKC_L1,2_Temp_and_Skipper_Joined.jmp  Shrimp_L1,2_Tidbit_Data.xls\n",
      "RKC_L1_10\t\t\t      Shrimp_L3,4_Skipper_Data.xls\n",
      "RKC_L2,3_Skipper_Data.xls\t      Shrimp_L3,4_Skipper_and_Tidbit_Joined.jmp\n",
      "RKC_L2,3_Tidbit_Data.xls\t      Shrimp_L3,4_Tidbit_Data.xls\n",
      "RKC_L2_10\t\t\t      Tanner_L1,2_10\n",
      "RKC_L3_10\t\t\t      Tanner_L1,2_Skipper_Data.xls\n",
      "Shrimp_12_13\t\t\t      Tanner_L1,2_Skipper_and_Tidbit_Joined.jmp\n",
      "Shrimp_3_7\t\t\t      Tanner_L1,2_Tidbit_Data.xls\n"
     ]
    }
   ],
   "source": [
    "!ls"
   ]
  },
  {
   "cell_type": "code",
   "execution_count": 326,
   "metadata": {},
   "outputs": [],
   "source": [
    "# Remove the following files and directories\n",
    "!rm -r Shrimp_*\n",
    "!rm -r GKC_Observer_Program*\n",
    "!rm -r NPRB_RKC_Temps/ # from November, much after the RKC survey. Presumed NPRB special project\n",
    "!rm *.jmp"
   ]
  },
  {
   "cell_type": "code",
   "execution_count": 328,
   "metadata": {},
   "outputs": [],
   "source": [
    "# Make new directories for each survey type\n",
    "!mkdir RKC_survey\n",
    "!mv Tanner_L1,2_10/ Tanner_survey/"
   ]
  },
  {
   "cell_type": "code",
   "execution_count": 329,
   "metadata": {},
   "outputs": [],
   "source": [
    "# Move folders and files into correct directories\n",
    "!mv RKC_L*_10/ RKC_survey\n",
    "!mv Tanner_L1,2_Skipper_Data.xls Tanner_survey/skipper_data.xls\n",
    "!mv RKC_L2,3_Skipper_Data.xls RKC_survey/skipper_data.xls\n",
    "!mv Tanner_L1,2_Tidbit_Data.xls Tanner_survey/tidbit_data.xls\n",
    "!mv RKC_L2,3_Tidbit_Data.xls RKC_survey/tidbit_data.xls"
   ]
  },
  {
   "cell_type": "code",
   "execution_count": 330,
   "metadata": {},
   "outputs": [
    {
     "name": "stdout",
     "output_type": "stream",
     "text": [
      "/mnt/c/Users/acoyl/Documents/GitHub/hemat_modeling/data/ADFG_SE_AK_pot_surveys/Tidbits/2010/RKC_survey\n"
     ]
    }
   ],
   "source": [
    "%cd RKC_survey/"
   ]
  },
  {
   "cell_type": "code",
   "execution_count": 331,
   "metadata": {},
   "outputs": [],
   "source": [
    "# Rename files for each leg\n",
    "!mv RKC_L1_10/ Leg_1\n",
    "!mv RKC_L2_10/ Leg_2\n",
    "!mv RKC_L3_10/ Leg_3"
   ]
  },
  {
   "cell_type": "code",
   "execution_count": null,
   "metadata": {},
   "outputs": [],
   "source": [
    "# Remove .dtf, .jmp, and .hobo files in each leg folder\n",
    "!rm */*.dtf\n",
    "!rm */*.hobo\n",
    "!rm */*.jmp"
   ]
  },
  {
   "cell_type": "code",
   "execution_count": 334,
   "metadata": {},
   "outputs": [],
   "source": [
    "# We've got some weird files here\n",
    "# Leg 1 has a separate skipper and temp data sheet that we'll remove\n",
    "# It also has a merged skipper_tidbit_data sheet that we'll move out to the main folder\n",
    "!mv Leg_1/10_RKC_Survey_Leg_1_Temp_and_Skipper_Joined.xlsx skipper_tidbit_data_leg_1.xls\n",
    "!rm */*.xls"
   ]
  },
  {
   "cell_type": "code",
   "execution_count": 336,
   "metadata": {},
   "outputs": [
    {
     "name": "stdout",
     "output_type": "stream",
     "text": [
      "/mnt/c/Users/acoyl/Documents/GitHub/hemat_modeling/data/ADFG_SE_AK_pot_surveys/Tidbits/2010/Tanner_survey\n"
     ]
    }
   ],
   "source": [
    "# Moving on to Tanner data\n",
    "%cd ../Tanner_survey/"
   ]
  },
  {
   "cell_type": "code",
   "execution_count": 337,
   "metadata": {},
   "outputs": [],
   "source": [
    "# Remove .dtf files and .hobo files\n",
    "!rm *.dtf\n",
    "!rm *.hobo"
   ]
  },
  {
   "cell_type": "code",
   "execution_count": null,
   "metadata": {},
   "outputs": [],
   "source": [
    "# Files contain data from both legs of survey, so we're done!\n",
    "# On to 2011"
   ]
  },
  {
   "cell_type": "code",
   "execution_count": 338,
   "metadata": {},
   "outputs": [
    {
     "name": "stdout",
     "output_type": "stream",
     "text": [
      "/mnt/c/Users/acoyl/Documents/GitHub/hemat_modeling/data/ADFG_SE_AK_pot_surveys/Tidbits/2011\n"
     ]
    }
   ],
   "source": [
    "# Alright, done! On to 2010\n",
    "%cd ../../2011/"
   ]
  },
  {
   "cell_type": "markdown",
   "metadata": {},
   "source": [
    "# 2011"
   ]
  },
  {
   "cell_type": "code",
   "execution_count": 339,
   "metadata": {},
   "outputs": [
    {
     "name": "stdout",
     "output_type": "stream",
     "text": [
      "GKC  NPRB_RKC  RKC  Shrimp  Tanner\n"
     ]
    }
   ],
   "source": [
    "!ls"
   ]
  },
  {
   "cell_type": "code",
   "execution_count": 340,
   "metadata": {},
   "outputs": [],
   "source": [
    "# Remove the following directories\n",
    "!rm -r Shrimp/\n",
    "!rm -r NPRB_RKC/\n",
    "!rm -r GKC/"
   ]
  },
  {
   "cell_type": "code",
   "execution_count": 341,
   "metadata": {},
   "outputs": [],
   "source": [
    "# We've already got separate directories for each survey type\n",
    "# Rename for consistency\n",
    "!mv RKC/ RKC_survey/\n",
    "!mv Tanner/ Tanner_survey/"
   ]
  },
  {
   "cell_type": "code",
   "execution_count": 342,
   "metadata": {},
   "outputs": [
    {
     "name": "stdout",
     "output_type": "stream",
     "text": [
      "/mnt/c/Users/acoyl/Documents/GitHub/hemat_modeling/data/ADFG_SE_AK_pot_surveys/Tidbits/2011/RKC_survey\n"
     ]
    }
   ],
   "source": [
    "%cd RKC_survey/"
   ]
  },
  {
   "cell_type": "code",
   "execution_count": 343,
   "metadata": {},
   "outputs": [],
   "source": [
    "# Rename the legs of the survey for consistency\n",
    "!mv Leg_I/ Leg_1\n",
    "!mv Leg_II/ Leg_2\n",
    "!mv Leg_III/ Leg_3"
   ]
  },
  {
   "cell_type": "code",
   "execution_count": null,
   "metadata": {},
   "outputs": [],
   "source": [
    "# Remove .hobo, .jmp, and .dtf files from each directory\n",
    "!rm */*.hobo\n",
    "!rm */*.dtf\n",
    "!rm */*.jmp"
   ]
  },
  {
   "cell_type": "code",
   "execution_count": 347,
   "metadata": {},
   "outputs": [],
   "source": [
    "# skipper and tidbit data files were created\n",
    "# However, they weren't merged between legs. Currently inside\n",
    "# each leg's directory. Move out to main directory now\n",
    "\n",
    "# Leg 1\n",
    "!mv Leg_1/11_RKC_Survey_Leg_1_Skipper_Data.xls skipper_data_leg_1.xls\n",
    "!mv Leg_1/11_RKC_Survey_Leg_1_Temp_Data.xls tidbit_data_leg_1.xls\n",
    "\n",
    "# Leg 2\n",
    "!mv Leg_2/11_RKC_Survey_Leg_2_Skipper_Data.xls skipper_data_leg_2.xls\n",
    "!mv Leg_2/11_RKC_Survey_Leg_2_Temp_Data.xls tidbit_data_leg_2.xls\n",
    "\n",
    "# Leg 3\n",
    "!mv Leg_3/11_RKC_Survey_Leg_3_Skipper_Data.xls skipper_data_leg_3.xls\n",
    "!mv Leg_3/11_RKC_Survey_Leg_3_Temp_Data.xls tidbit_data_leg_3.xls"
   ]
  },
  {
   "cell_type": "code",
   "execution_count": 348,
   "metadata": {},
   "outputs": [
    {
     "name": "stdout",
     "output_type": "stream",
     "text": [
      "/mnt/c/Users/acoyl/Documents/GitHub/hemat_modeling/data/ADFG_SE_AK_pot_surveys/Tidbits/2011/Tanner_survey\n"
     ]
    }
   ],
   "source": [
    "# Moving on to Tanner data\n",
    "%cd ../Tanner_survey/"
   ]
  },
  {
   "cell_type": "code",
   "execution_count": null,
   "metadata": {},
   "outputs": [],
   "source": [
    "# Remove .dtf, .jmp, and .hobo files\n",
    "!rm */*.dtf\n",
    "!rm */*.hobo\n",
    "!rm */*.jmp"
   ]
  },
  {
   "cell_type": "code",
   "execution_count": 352,
   "metadata": {},
   "outputs": [],
   "source": [
    "# skipper and tidbit data files were created\n",
    "# However, they weren't merged between legs. Currently inside\n",
    "# each leg's directory. Move out to main directory now\n",
    "\n",
    "# Leg 1\n",
    "!mv Leg_1/2011_Tanner_Leg_I_Skipper.xls skipper_data_leg_1.xls\n",
    "!mv Leg_1/2011_Tanner_Leg_I_Temp.xls tidbit_data_leg_1.xls\n",
    "\n",
    "# Leg 2\n",
    "!mv Leg_2/2011_Tanner_Leg_2_Skipper_Data.xls skipper_data_leg_2.xls\n",
    "!mv Leg_2/2011_Tanner_Leg_2_Temp_Data.xls tidbit_data_leg_2.xls"
   ]
  },
  {
   "cell_type": "code",
   "execution_count": 353,
   "metadata": {},
   "outputs": [
    {
     "name": "stdout",
     "output_type": "stream",
     "text": [
      "/mnt/c/Users/acoyl/Documents/GitHub/hemat_modeling/data/ADFG_SE_AK_pot_surveys/Tidbits/2012\n"
     ]
    }
   ],
   "source": [
    "# Alright, done! On to 2012\n",
    "%cd ../../2012/"
   ]
  },
  {
   "cell_type": "markdown",
   "metadata": {},
   "source": [
    "# 2012"
   ]
  },
  {
   "cell_type": "code",
   "execution_count": 354,
   "metadata": {},
   "outputs": [
    {
     "name": "stdout",
     "output_type": "stream",
     "text": [
      "GKC  NPRB  RKC\tShrimp\tTanner\tYakutat_Dungeness\n"
     ]
    }
   ],
   "source": [
    "!ls"
   ]
  },
  {
   "cell_type": "code",
   "execution_count": 355,
   "metadata": {},
   "outputs": [],
   "source": [
    "# Remove the following directories\n",
    "!rm -r Shrimp/\n",
    "!rm -r NPRB/\n",
    "!rm -r GKC/\n",
    "!rm -r Yakutat_Dungeness/"
   ]
  },
  {
   "cell_type": "code",
   "execution_count": 356,
   "metadata": {},
   "outputs": [],
   "source": [
    "# We've already got separate directories for each survey type\n",
    "# Rename for consistency\n",
    "!mv RKC/ RKC_survey/\n",
    "!mv Tanner/ Tanner_survey/"
   ]
  },
  {
   "cell_type": "code",
   "execution_count": 357,
   "metadata": {},
   "outputs": [
    {
     "name": "stdout",
     "output_type": "stream",
     "text": [
      "/mnt/c/Users/acoyl/Documents/GitHub/hemat_modeling/data/ADFG_SE_AK_pot_surveys/Tidbits/2012/RKC_survey\n"
     ]
    }
   ],
   "source": [
    "%cd RKC_survey/"
   ]
  },
  {
   "cell_type": "code",
   "execution_count": 358,
   "metadata": {},
   "outputs": [],
   "source": [
    "# Rename the legs of the survey for consistency\n",
    "!mv Leg_I/ Leg_1\n",
    "!mv Leg_II/ Leg_2\n",
    "!mv Leg_III/ Leg_3"
   ]
  },
  {
   "cell_type": "code",
   "execution_count": 359,
   "metadata": {},
   "outputs": [],
   "source": [
    "# Remove .hobo, .jmp, and .dtf files from each directory\n",
    "!rm */*.hobo\n",
    "!rm */*.dtf\n",
    "!rm */*.jmp"
   ]
  },
  {
   "cell_type": "code",
   "execution_count": 360,
   "metadata": {},
   "outputs": [],
   "source": [
    "# skipper and tidbit data files were created\n",
    "# However, they weren't merged between legs. Currently inside\n",
    "# each leg's directory. Move out to main directory now\n",
    "\n",
    "# Leg 1\n",
    "!mv Leg_1/12_RKC_Skipper_Data_Leg_I.xls skipper_data_leg_1.xls\n",
    "!mv Leg_1/12_RKC_Temp_Data_Leg_I.xls tidbit_data_leg_1.xls\n",
    "\n",
    "# Leg 2\n",
    "!mv Leg_2/12_RKC_Skipper_Data_Leg_II.xlsx skipper_data_leg_2.xls\n",
    "!mv Leg_2/12_RKC_Temp_Data_Leg_II.xlsx tidbit_data_leg_2.xls\n",
    "\n",
    "# Leg 3\n",
    "!mv Leg_3/12_RKC_Skipper_Data_Leg_III.xlsx skipper_data_leg_3.xls\n",
    "!mv Leg_3/12_RKC_Temp_Data_Leg_III.xlsx tidbit_data_leg_3.xls"
   ]
  },
  {
   "cell_type": "code",
   "execution_count": 361,
   "metadata": {},
   "outputs": [
    {
     "name": "stdout",
     "output_type": "stream",
     "text": [
      "/mnt/c/Users/acoyl/Documents/GitHub/hemat_modeling/data/ADFG_SE_AK_pot_surveys/Tidbits/2012/Tanner_survey\n"
     ]
    }
   ],
   "source": [
    "# Moving on to Tanner data\n",
    "%cd ../Tanner_survey/"
   ]
  },
  {
   "cell_type": "code",
   "execution_count": 362,
   "metadata": {},
   "outputs": [],
   "source": [
    "# Rename folders for consistency\n",
    "!mv Leg_I/ Leg_1/\n",
    "!mv Leg_II/ Leg_2/"
   ]
  },
  {
   "cell_type": "code",
   "execution_count": 363,
   "metadata": {},
   "outputs": [
    {
     "name": "stdout",
     "output_type": "stream",
     "text": [
      "rm: cannot remove '*/*.jmp': No such file or directory\n"
     ]
    }
   ],
   "source": [
    "# Remove .dtf, and .hobo files\n",
    "!rm */*.dtf\n",
    "!rm */*.hobo"
   ]
  },
  {
   "cell_type": "code",
   "execution_count": 364,
   "metadata": {},
   "outputs": [],
   "source": [
    "# skipper and tidbit data files were created\n",
    "# However, they weren't merged between legs. Currently inside\n",
    "# each leg's directory. Move out to main directory now\n",
    "# Also, filtered temp files were created, evidently with a bar for \n",
    "# water temp. Remove, since we can do that ourselves\n",
    "\n",
    "# Leg 1\n",
    "!mv Leg_1/2012_Tanner_Leg_I_Skipper_Data.xlsx skipper_data_leg_1.xls\n",
    "!mv Leg_1/2012_Tanner_Leg_I_Temp_Data.xlsx tidbit_data_leg_1.xls\n",
    "!rm Leg_1/2012_Tanner_Leg_I_Temp_filtered.xlsx\n",
    "\n",
    "# Leg 2\n",
    "!mv Leg_2/2012_Tanner_Leg_II_skipper_data.xlsx skipper_data_leg_2.xls\n",
    "!mv Leg_2/2012_Tanner_Leg_II_Temp.xls tidbit_data_leg_2.xls\n",
    "!rm Leg_2/2012_Tanner_Leg_II_Temp_filtered.xlsx"
   ]
  },
  {
   "cell_type": "code",
   "execution_count": 365,
   "metadata": {},
   "outputs": [
    {
     "name": "stdout",
     "output_type": "stream",
     "text": [
      "/mnt/c/Users/acoyl/Documents/GitHub/hemat_modeling/data/ADFG_SE_AK_pot_surveys/Tidbits/2013\n"
     ]
    }
   ],
   "source": [
    "# Alright, done! On to 2013\n",
    "%cd ../../2013/"
   ]
  },
  {
   "cell_type": "markdown",
   "metadata": {},
   "source": [
    "# 2013"
   ]
  },
  {
   "cell_type": "code",
   "execution_count": 366,
   "metadata": {},
   "outputs": [
    {
     "name": "stdout",
     "output_type": "stream",
     "text": [
      "GKC  RKC  Tanner\n"
     ]
    }
   ],
   "source": [
    "!ls"
   ]
  },
  {
   "cell_type": "code",
   "execution_count": 367,
   "metadata": {},
   "outputs": [],
   "source": [
    "# Remove the GKC directory\n",
    "!rm -r GKC/"
   ]
  },
  {
   "cell_type": "code",
   "execution_count": 368,
   "metadata": {},
   "outputs": [],
   "source": [
    "# We've already got separate directories for each survey type\n",
    "# Rename for consistency\n",
    "!mv RKC/ RKC_survey/\n",
    "!mv Tanner/ Tanner_survey/"
   ]
  },
  {
   "cell_type": "code",
   "execution_count": 369,
   "metadata": {},
   "outputs": [
    {
     "name": "stdout",
     "output_type": "stream",
     "text": [
      "/mnt/c/Users/acoyl/Documents/GitHub/hemat_modeling/data/ADFG_SE_AK_pot_surveys/Tidbits/2013/RKC_survey\n"
     ]
    }
   ],
   "source": [
    "%cd RKC_survey/"
   ]
  },
  {
   "cell_type": "code",
   "execution_count": 370,
   "metadata": {},
   "outputs": [],
   "source": [
    "# Rename the legs of the survey for consistency\n",
    "!mv Leg_I/ Leg_1\n",
    "!mv Leg_II/ Leg_2\n",
    "!mv Leg_III/ Leg_3"
   ]
  },
  {
   "cell_type": "code",
   "execution_count": 371,
   "metadata": {},
   "outputs": [
    {
     "name": "stdout",
     "output_type": "stream",
     "text": [
      "rm: cannot remove '*/*.jmp': No such file or directory\n"
     ]
    }
   ],
   "source": [
    "# Remove .hobo and .dtf files from each directory\n",
    "!rm */*.hobo\n",
    "!rm */*.dtf"
   ]
  },
  {
   "cell_type": "code",
   "execution_count": 372,
   "metadata": {},
   "outputs": [],
   "source": [
    "# skipper and tidbit data files were created\n",
    "# Rename them for consistency \n",
    "\n",
    "!mv 2013_RKC_pot_data.xlsx skipper_data.xls\n",
    "!mv 2013_RKC_temp.xlsx tidbit_data.xls\n",
    "\n",
    "# Also an unnecessary tidbit file in Leg 1, remove\n",
    "!rm Leg_1/2013_RKC_temp_Leg_I.xlsx"
   ]
  },
  {
   "cell_type": "code",
   "execution_count": 390,
   "metadata": {},
   "outputs": [
    {
     "name": "stdout",
     "output_type": "stream",
     "text": [
      "[Errno 2] No such file or directory: 'Leg_2/'\n",
      "/mnt/c/Users/acoyl/Documents/GitHub/hemat_modeling/data/ADFG_SE_AK_pot_surveys/Tidbits/2013/RKC_survey/Leg_2\n",
      "Can't rename 0?.txt 0?change.txt: No such file or directory\n",
      "Can't rename *change.txt *.txt: No such file or directory\n"
     ]
    }
   ],
   "source": [
    "# Leg 1 is fine\n",
    "# Legs 2 and 3 have zeroes prefixed to all single-digit numbers\n",
    "# Remove these\n",
    "\n",
    "%cd Leg_2/\n",
    "!rename 's/0//' 0?.txt\n",
    "!rename 's/0//' 0?.TXT\n",
    "\n",
    "# Moving to Leg 3\n",
    "%cd ../Leg_3/\n",
    "!rename 's/0//' 0?.txt\n",
    "!rename 's/0//' 0?.TXT"
   ]
  },
  {
   "cell_type": "code",
   "execution_count": 399,
   "metadata": {},
   "outputs": [
    {
     "name": "stdout",
     "output_type": "stream",
     "text": [
      "/mnt/c/Users/acoyl/Documents/GitHub/hemat_modeling/data/ADFG_SE_AK_pot_surveys/Tidbits/2013/Tanner_survey\n"
     ]
    }
   ],
   "source": [
    "# Moving on to Tanner data\n",
    "%cd ../../Tanner_survey/"
   ]
  },
  {
   "cell_type": "code",
   "execution_count": null,
   "metadata": {},
   "outputs": [],
   "source": [
    "# Looks like loggers were just downloaded once, at the end of Leg 2\n",
    "# Remove .hobo files\n",
    "!rm *.hobo"
   ]
  },
  {
   "cell_type": "code",
   "execution_count": 401,
   "metadata": {},
   "outputs": [],
   "source": [
    "# Rename skipper and temp data files for consistency\n",
    "!mv 2013_Tanner_pot_data.xlsx skipper_data.xls\n",
    "!mv 2013_Tanner_temp_data.xlsx tidbit_data.xls"
   ]
  },
  {
   "cell_type": "code",
   "execution_count": 403,
   "metadata": {},
   "outputs": [
    {
     "name": "stdout",
     "output_type": "stream",
     "text": [
      "/mnt/c/Users/acoyl/Documents/GitHub/hemat_modeling/data/ADFG_SE_AK_pot_surveys/Tidbits/2014\n"
     ]
    }
   ],
   "source": [
    "# Alright, done! On to 2014\n",
    "%cd ../../2014/"
   ]
  },
  {
   "cell_type": "markdown",
   "metadata": {},
   "source": [
    "# 2014"
   ]
  },
  {
   "cell_type": "code",
   "execution_count": 404,
   "metadata": {},
   "outputs": [
    {
     "name": "stdout",
     "output_type": "stream",
     "text": [
      "GKC  RKC  Tanner\n"
     ]
    }
   ],
   "source": [
    "!ls"
   ]
  },
  {
   "cell_type": "code",
   "execution_count": 405,
   "metadata": {},
   "outputs": [],
   "source": [
    "# Remove the GKC directory\n",
    "!rm -r GKC/"
   ]
  },
  {
   "cell_type": "code",
   "execution_count": 406,
   "metadata": {},
   "outputs": [],
   "source": [
    "# We've already got separate directories for each survey type\n",
    "# Rename for consistency\n",
    "!mv RKC/ RKC_survey/\n",
    "!mv Tanner/ Tanner_survey/"
   ]
  },
  {
   "cell_type": "code",
   "execution_count": 407,
   "metadata": {},
   "outputs": [
    {
     "name": "stdout",
     "output_type": "stream",
     "text": [
      "/mnt/c/Users/acoyl/Documents/GitHub/hemat_modeling/data/ADFG_SE_AK_pot_surveys/Tidbits/2014/RKC_survey\n"
     ]
    }
   ],
   "source": [
    "%cd RKC_survey/"
   ]
  },
  {
   "cell_type": "code",
   "execution_count": 408,
   "metadata": {},
   "outputs": [],
   "source": [
    "# Rename the legs of the survey for consistency\n",
    "!mv Leg_I/ Leg_1\n",
    "!mv Leg_II/ Leg_2\n",
    "!mv Leg_III/ Leg_3"
   ]
  },
  {
   "cell_type": "code",
   "execution_count": 409,
   "metadata": {},
   "outputs": [
    {
     "name": "stdout",
     "output_type": "stream",
     "text": [
      "rm: cannot remove '*/*.dtf': No such file or directory\n"
     ]
    }
   ],
   "source": [
    "# Remove .hobo files from each directory\n",
    "!rm */*.hobo"
   ]
  },
  {
   "cell_type": "code",
   "execution_count": 410,
   "metadata": {},
   "outputs": [],
   "source": [
    "# Tidbit data files were created\n",
    "# Rename them for consistency \n",
    "\n",
    "!mv Leg_1/2014_RKC_Leg_I_temp_summary.xlsx tidbit_data_leg_1.xls\n",
    "!mv Leg_2/2014_leg_II_RKC_temp_summary.xlsx tidbit_data_leg_2.xls\n",
    "!mv Leg_3/2014_Leg_III_RKC_temp_summary.xlsx tidbit_data_leg_3.xls"
   ]
  },
  {
   "cell_type": "code",
   "execution_count": null,
   "metadata": {},
   "outputs": [],
   "source": [
    "# Legs have zeroes prefixed to some single-digit numbers\n",
    "# Remove these\n",
    "\n",
    "%cd Leg_1/\n",
    "!rename 's/0//' 0?.txt\n",
    "\n",
    "# Move to Leg 2\n",
    "%cd ../Leg_2/\n",
    "!rename 's/0//' 0?.txt\n",
    "\n",
    "\n",
    "# Moving to Leg 3\n",
    "%cd ../Leg_3/\n",
    "!rename 's/0//' 0?.txt"
   ]
  },
  {
   "cell_type": "code",
   "execution_count": 421,
   "metadata": {},
   "outputs": [
    {
     "name": "stdout",
     "output_type": "stream",
     "text": [
      "/mnt/c/Users/acoyl/Documents/GitHub/hemat_modeling/data/ADFG_SE_AK_pot_surveys/Tidbits/2014/Tanner_survey\n"
     ]
    }
   ],
   "source": [
    "# Moving on to Tanner data\n",
    "%cd ../../Tanner_survey/"
   ]
  },
  {
   "cell_type": "code",
   "execution_count": 422,
   "metadata": {},
   "outputs": [],
   "source": [
    "# Rename folders to match consensus\n",
    "!mv Leg_I/ Leg_1/"
   ]
  },
  {
   "cell_type": "code",
   "execution_count": 424,
   "metadata": {},
   "outputs": [],
   "source": [
    "# Remove .hobo files\n",
    "!rm */*.hobo"
   ]
  },
  {
   "cell_type": "code",
   "execution_count": 425,
   "metadata": {},
   "outputs": [],
   "source": [
    "# Rename temp data files for consistency\n",
    "!mv Leg_1/2014_TC_leg_I_temp_summary.xlsx tidbit_data_leg_1.xls\n",
    "!mv Leg_2/2014_TC_leg_II_temp_summary.xlsx tidbit_data_leg_2.xls"
   ]
  },
  {
   "cell_type": "code",
   "execution_count": null,
   "metadata": {},
   "outputs": [],
   "source": [
    "# Legs have zeroes prefixed to some single-digit numbers\n",
    "# Remove these\n",
    "\n",
    "%cd Leg_1/\n",
    "!rename 's/0//' 0?.txt\n",
    "\n",
    "# Move to Leg 2\n",
    "%cd ../Leg_2/\n",
    "!rename 's/0//' 0?.txt"
   ]
  },
  {
   "cell_type": "code",
   "execution_count": 433,
   "metadata": {},
   "outputs": [
    {
     "name": "stdout",
     "output_type": "stream",
     "text": [
      "/mnt/c/Users/acoyl/Documents/GitHub/hemat_modeling/data/ADFG_SE_AK_pot_surveys/Tidbits/2015\n"
     ]
    }
   ],
   "source": [
    "# Alright, done! On to 2015\n",
    "%cd ../../../2015/"
   ]
  },
  {
   "cell_type": "markdown",
   "metadata": {},
   "source": [
    "# 2015"
   ]
  },
  {
   "cell_type": "code",
   "execution_count": 434,
   "metadata": {},
   "outputs": [
    {
     "name": "stdout",
     "output_type": "stream",
     "text": [
      "2015_Tanner_Tidbit_Data  RKC_Temp_2015\n"
     ]
    }
   ],
   "source": [
    "!ls"
   ]
  },
  {
   "cell_type": "code",
   "execution_count": 435,
   "metadata": {},
   "outputs": [],
   "source": [
    "# We've already got separate directories for each survey type\n",
    "# Rename for consistency\n",
    "!mv RKC_Temp_2015/ RKC_survey/\n",
    "!mv 2015_Tanner_Tidbit_Data/ Tanner_survey/"
   ]
  },
  {
   "cell_type": "code",
   "execution_count": 436,
   "metadata": {},
   "outputs": [
    {
     "name": "stdout",
     "output_type": "stream",
     "text": [
      "/mnt/c/Users/acoyl/Documents/GitHub/hemat_modeling/data/ADFG_SE_AK_pot_surveys/Tidbits/2015/RKC_survey\n"
     ]
    }
   ],
   "source": [
    "%cd RKC_survey/"
   ]
  },
  {
   "cell_type": "code",
   "execution_count": 437,
   "metadata": {},
   "outputs": [],
   "source": [
    "# Rename the legs of the survey for consistency\n",
    "!mv Leg_I/ Leg_1\n",
    "!mv Leg_II/ Leg_2\n",
    "!mv Leg_III/ Leg_3"
   ]
  },
  {
   "cell_type": "code",
   "execution_count": 438,
   "metadata": {},
   "outputs": [],
   "source": [
    "# Remove .hobo files from each directory\n",
    "!rm */*.hobo"
   ]
  },
  {
   "cell_type": "code",
   "execution_count": 439,
   "metadata": {},
   "outputs": [],
   "source": [
    "# Tidbit data files were created\n",
    "# Rename them for consistency \n",
    "\n",
    "!mv Leg_1/2015_JNU_and_Barlow_temperature.xlsx tidbit_data_leg_1.xlsx\n",
    "!mv Leg_2/2015_Deadmans_Reach,_Excursion_Inlet,_and_Lynn_Sisters_temperature.xlsx tidbit_data_leg_2.xlsx\n",
    "!mv Leg_3/2015_Pybus_Bay,_Gambier_Bay,_and_Seymour_Canal_temperature.xls tidbit_data_leg_3.xls"
   ]
  },
  {
   "cell_type": "code",
   "execution_count": 440,
   "metadata": {},
   "outputs": [
    {
     "name": "stdout",
     "output_type": "stream",
     "text": [
      "/mnt/c/Users/acoyl/Documents/GitHub/hemat_modeling/data/ADFG_SE_AK_pot_surveys/Tidbits/2015/RKC_survey/Leg_1\n",
      "/mnt/c/Users/acoyl/Documents/GitHub/hemat_modeling/data/ADFG_SE_AK_pot_surveys/Tidbits/2015/RKC_survey/Leg_2\n",
      "/mnt/c/Users/acoyl/Documents/GitHub/hemat_modeling/data/ADFG_SE_AK_pot_surveys/Tidbits/2015/RKC_survey/Leg_3\n"
     ]
    }
   ],
   "source": [
    "# Legs have zeroes prefixed to some single-digit numbers\n",
    "# Remove these\n",
    "\n",
    "%cd Leg_1/\n",
    "!rename 's/0//' 0?.txt\n",
    "\n",
    "# Move to Leg 2\n",
    "%cd ../Leg_2/\n",
    "!rename 's/0//' 0?.txt\n",
    "\n",
    "# Moving to Leg 3\n",
    "%cd ../Leg_3/\n",
    "!rename 's/0//' 0?.txt"
   ]
  },
  {
   "cell_type": "code",
   "execution_count": 441,
   "metadata": {},
   "outputs": [
    {
     "name": "stdout",
     "output_type": "stream",
     "text": [
      "/mnt/c/Users/acoyl/Documents/GitHub/hemat_modeling/data/ADFG_SE_AK_pot_surveys/Tidbits/2015/Tanner_survey\n"
     ]
    }
   ],
   "source": [
    "# Moving on to Tanner data\n",
    "%cd ../../Tanner_survey/"
   ]
  },
  {
   "cell_type": "code",
   "execution_count": 442,
   "metadata": {},
   "outputs": [],
   "source": [
    "# Rename folders to match consensus\n",
    "!mv Trip_1/ Leg_1/\n",
    "!mv Trip_2 Leg_2/"
   ]
  },
  {
   "cell_type": "code",
   "execution_count": 443,
   "metadata": {},
   "outputs": [],
   "source": [
    "# Remove .hobo files\n",
    "!rm */*.hobo"
   ]
  },
  {
   "cell_type": "code",
   "execution_count": 444,
   "metadata": {},
   "outputs": [],
   "source": [
    "# Folder contains some filtered data files\n",
    "# Remove for consistency, since we'll just do that ourselves\n",
    "!rm Leg_1/2015_Tanner_temperature_leg_I_filtered.xlsx\n",
    "!rm Leg_2/2015_Tanner_leg_2_temperature_data_filtered.xlsx"
   ]
  },
  {
   "cell_type": "code",
   "execution_count": 445,
   "metadata": {},
   "outputs": [],
   "source": [
    "# Rename temp data files for consistency\n",
    "!mv Leg_1/2015_Tanner_temperature_leg_I.xlsx tidbit_data_leg_1.xlsx\n",
    "!mv Leg_2/2015_Tanner_leg_2_temperature_data.xlsx tidbit_data_leg_2.xlsx"
   ]
  },
  {
   "cell_type": "code",
   "execution_count": null,
   "metadata": {},
   "outputs": [],
   "source": [
    "# Legs have zeroes prefixed to some single-digit numbers\n",
    "# Remove these, along with some suffixes in Leg 2\n",
    "\n",
    "%cd Leg_1/\n",
    "!rename 's/0//' 0?.txt\n",
    "\n",
    "# Move to Leg 2\n",
    "%cd ../Leg_2/\n",
    "!rename 's/0//' 0?.txt\n",
    "!rename 's/_0//' *_0.txt\n",
    "!rename 's/0//' 0?.txt\n"
   ]
  },
  {
   "cell_type": "code",
   "execution_count": 456,
   "metadata": {},
   "outputs": [
    {
     "name": "stdout",
     "output_type": "stream",
     "text": [
      "/mnt/c/Users/acoyl/Documents/GitHub/hemat_modeling/data/ADFG_SE_AK_pot_surveys/Tidbits/2016\n"
     ]
    }
   ],
   "source": [
    "# Alright, done! On to 2016\n",
    "%cd ../../../2016/"
   ]
  },
  {
   "cell_type": "markdown",
   "metadata": {},
   "source": [
    "# 2016"
   ]
  },
  {
   "cell_type": "code",
   "execution_count": 457,
   "metadata": {},
   "outputs": [
    {
     "name": "stdout",
     "output_type": "stream",
     "text": [
      "2016_Tanner_Tidbit_Data     RKC_AllTempGraphs_2016.docx\t\tRKC_temp_data\n",
      "Juneau_2016_Temp_Graph.JPG  RKC_LegIII_Temperature_Graphs.docx\tThumbs.db\n",
      "RKCS_SkipperData_2016.xlsx  RKC_MR_temp_excursion\n"
     ]
    }
   ],
   "source": [
    "!ls"
   ]
  },
  {
   "cell_type": "code",
   "execution_count": 458,
   "metadata": {},
   "outputs": [],
   "source": [
    "# Remove irrelevant folders and files\n",
    "!rm -r RKC_MR_temp_excursion/\n",
    "!rm Thumbs.db\n",
    "!rm Juneau_2016_Temp_Graph.JPG\n",
    "!rm RKC_AllTempGraphs_2016.docx\n",
    "!rm RKC_LegIII_Temperature_Graphs.docx\n",
    "!rm RKCS_SkipperData_2016.xlsx"
   ]
  },
  {
   "cell_type": "code",
   "execution_count": 460,
   "metadata": {},
   "outputs": [],
   "source": [
    "# We've already got separate directories for each survey type\n",
    "# Rename for consistency\n",
    "!mv RKC_temp_data/ RKC_survey/\n",
    "!mv 2016_Tanner_Tidbit_Data/ Tanner_survey/"
   ]
  },
  {
   "cell_type": "code",
   "execution_count": 461,
   "metadata": {},
   "outputs": [
    {
     "name": "stdout",
     "output_type": "stream",
     "text": [
      "/mnt/c/Users/acoyl/Documents/GitHub/hemat_modeling/data/ADFG_SE_AK_pot_surveys/Tidbits/2016/RKC_survey\n"
     ]
    }
   ],
   "source": [
    "%cd RKC_survey/"
   ]
  },
  {
   "cell_type": "code",
   "execution_count": 462,
   "metadata": {},
   "outputs": [],
   "source": [
    "# Rename the legs of the survey for consistency\n",
    "!mv RKC_Leg1_2016/ Leg_1\n",
    "!mv RKC_Leg2_2016/ Leg_2\n",
    "!mv RKC_Leg3_2016/ Leg_3\n",
    "\n",
    "# Remove unnecessary file\n",
    "!rm RKC2.7z"
   ]
  },
  {
   "cell_type": "code",
   "execution_count": 464,
   "metadata": {},
   "outputs": [
    {
     "name": "stdout",
     "output_type": "stream",
     "text": [
      "rm: cannot remove '*/*.hobo': No such file or directory\n"
     ]
    }
   ],
   "source": [
    "# Remove .hobo files from each directory\n",
    "!rm */*.hobo\n",
    "\n",
    "# Remove other unnecessary files\n",
    "!rm Leg_1/Juneau_2016_Temp_Graph.JPG\n",
    "!rm Leg_1/Thumbs.db\n",
    "!rm Leg_1/Leg1_Temperature_Data_2016.xls\n",
    "!rm Leg_3/*_Details.txt"
   ]
  },
  {
   "cell_type": "code",
   "execution_count": 465,
   "metadata": {},
   "outputs": [],
   "source": [
    "# Tidbit data files were created\n",
    "# Rename them for consistency \n",
    "\n",
    "!mv Leg_1/Leg1_Temperature_Data.xls tidbit_data_leg_1.xls\n",
    "!mv Leg_1/Leg1_SkipperData.xlsx skipper_data_leg_1.xlsx\n",
    "\n",
    "!mv Leg_2/RKC_LegII_Temp_Data_2016.xlsx tidbit_data_leg_2.xlsx\n",
    "\n",
    "!mv Leg_3/RKC_Leg3_AllTidbitData.xlsx tidbit_data_leg_3.xlsx"
   ]
  },
  {
   "cell_type": "code",
   "execution_count": null,
   "metadata": {},
   "outputs": [],
   "source": [
    "# Legs have zeroes prefixed to some single-digit numbers\n",
    "# Remove these\n",
    "\n",
    "%cd Leg_1/\n",
    "!rename 's/0//' 0?.xls\n",
    "\n",
    "# Move to Leg 2\n",
    "%cd ../Leg_2/\n",
    "!rename 's/0//' 0?.csv\n",
    "\n",
    "# Moving to Leg 3\n",
    "%cd ../Leg_3/\n",
    "!rename 's/0//' 0?.csv"
   ]
  },
  {
   "cell_type": "code",
   "execution_count": 471,
   "metadata": {},
   "outputs": [
    {
     "name": "stdout",
     "output_type": "stream",
     "text": [
      "/mnt/c/Users/acoyl/Documents/GitHub/hemat_modeling/data/ADFG_SE_AK_pot_surveys/Tidbits/2016/Tanner_survey\n"
     ]
    }
   ],
   "source": [
    "# Moving on to Tanner data\n",
    "%cd ../../Tanner_survey/"
   ]
  },
  {
   "cell_type": "code",
   "execution_count": 472,
   "metadata": {},
   "outputs": [],
   "source": [
    "# Rename folders to match consensus\n",
    "!mv Trip_1/ Leg_1/\n",
    "!mv TCS_Leg_II_Tidbit_Data/ Leg_2/"
   ]
  },
  {
   "cell_type": "code",
   "execution_count": null,
   "metadata": {},
   "outputs": [],
   "source": [
    "# Remove .hobo files\n",
    "!rm */*.hobo\n",
    "!rm */*_Details.txt"
   ]
  },
  {
   "cell_type": "code",
   "execution_count": null,
   "metadata": {},
   "outputs": [],
   "source": [
    "# Legs have zeroes prefixed to some single-digit numbers\n",
    "# Remove these, along with some suffixes in Leg 2\n",
    "\n",
    "%cd Leg_1/\n",
    "!rename 's/0//' 0?.txt\n",
    "\n",
    "# Move to Leg 2\n",
    "%cd ../Leg_2/\n",
    "!rename 's/_0//' *_0.txt\n",
    "!rename 's/0//' 0?.txt\n"
   ]
  },
  {
   "cell_type": "code",
   "execution_count": 484,
   "metadata": {},
   "outputs": [
    {
     "name": "stdout",
     "output_type": "stream",
     "text": [
      "/mnt/c/Users/acoyl/Documents/GitHub/hemat_modeling/data/ADFG_SE_AK_pot_surveys/Tidbits/2017\n"
     ]
    }
   ],
   "source": [
    "# Alright, done! On to 2017\n",
    "%cd ../../../2017/"
   ]
  },
  {
   "cell_type": "markdown",
   "metadata": {},
   "source": [
    "# 2017"
   ]
  },
  {
   "cell_type": "code",
   "execution_count": 485,
   "metadata": {},
   "outputs": [
    {
     "name": "stdout",
     "output_type": "stream",
     "text": [
      "2017_RKC_Leg3  2017_Tanner_leg_1  2017_rkc_leg_1  2017_rkc_leg_2\n"
     ]
    }
   ],
   "source": [
    "!ls"
   ]
  },
  {
   "cell_type": "code",
   "execution_count": null,
   "metadata": {},
   "outputs": [],
   "source": [
    "# We've already got separate directories for each survey type\n",
    "# Rename for consistency\n",
    "!mkdir RKC_survey\n",
    "!mv 2017_Tanner_leg_1/ Tanner_survey/\n",
    "!mv 2017_*/ RKC_survey/"
   ]
  },
  {
   "cell_type": "code",
   "execution_count": 489,
   "metadata": {},
   "outputs": [
    {
     "name": "stdout",
     "output_type": "stream",
     "text": [
      "/mnt/c/Users/acoyl/Documents/GitHub/hemat_modeling/data/ADFG_SE_AK_pot_surveys/Tidbits/2017/RKC_survey\n"
     ]
    }
   ],
   "source": [
    "%cd RKC_survey/"
   ]
  },
  {
   "cell_type": "code",
   "execution_count": 490,
   "metadata": {},
   "outputs": [],
   "source": [
    "# Rename the legs of the survey for consistency\n",
    "!mv 2017_rkc_leg_1/ Leg_1\n",
    "!mv 2017_rkc_leg_2/ Leg_2\n",
    "!mv 2017_RKC_Leg3/ Leg_3\n"
   ]
  },
  {
   "cell_type": "code",
   "execution_count": 491,
   "metadata": {},
   "outputs": [],
   "source": [
    "# Remove .hobo files from each directory\n",
    "!rm */*.hobo\n",
    "\n",
    "# Remove other unnecessary files\n",
    "!rm Leg_*/*_Details.txt\n",
    "!rm Leg_3/19_0_Details_0.txt"
   ]
  },
  {
   "cell_type": "code",
   "execution_count": null,
   "metadata": {},
   "outputs": [],
   "source": [
    "# Legs have zeroes prefixed to some single-digit numbers\n",
    "# Remove these\n",
    "\n",
    "%cd Leg_1/\n",
    "!rename 's/0//' 0?.txt\n",
    "\n",
    "# Move to Leg 2\n",
    "%cd ../Leg_2/\n",
    "!rename 's/_0//' *_0.txt\n",
    "!rename 's/0//' 0?.txt\n",
    "\n",
    "# Moving to Leg 3\n",
    "%cd ../Leg_3/\n",
    "!rename 's/_0//' *_0.txt\n",
    "!rename 's/0//' 0?.txt\n",
    "!mv 09_0.txt 9_0.txt"
   ]
  },
  {
   "cell_type": "code",
   "execution_count": 514,
   "metadata": {},
   "outputs": [
    {
     "name": "stdout",
     "output_type": "stream",
     "text": [
      "/mnt/c/Users/acoyl/Documents/GitHub/hemat_modeling/data/ADFG_SE_AK_pot_surveys/Tidbits/2017/Tanner_survey\n"
     ]
    }
   ],
   "source": [
    "# Moving on to Tanner data\n",
    "%cd ../../Tanner_survey/"
   ]
  },
  {
   "cell_type": "code",
   "execution_count": 515,
   "metadata": {},
   "outputs": [],
   "source": [
    "# Rename folders to match consensus\n",
    "!mv Leg1/ Leg_1/"
   ]
  },
  {
   "cell_type": "code",
   "execution_count": 516,
   "metadata": {},
   "outputs": [],
   "source": [
    "# Remove .hobo files\n",
    "!rm */*.hobo"
   ]
  },
  {
   "cell_type": "code",
   "execution_count": null,
   "metadata": {},
   "outputs": [],
   "source": [
    "# Legs have zeroes prefixed to some single-digit numbers\n",
    "# Remove these, along with some suffixes in Leg 2\n",
    "\n",
    "%cd Leg_1/\n",
    "!rename 's/_0//' *_0.txt\n",
    "!rename 's/0//' 0?.txt\n"
   ]
  },
  {
   "cell_type": "code",
   "execution_count": 523,
   "metadata": {},
   "outputs": [
    {
     "name": "stdout",
     "output_type": "stream",
     "text": [
      "/mnt/c/Users/acoyl/Documents/GitHub/hemat_modeling/data/ADFG_SE_AK_pot_surveys/Tidbits/2018\n"
     ]
    }
   ],
   "source": [
    "# Alright, done! On to 2018\n",
    "%cd ../../../2018/"
   ]
  },
  {
   "cell_type": "markdown",
   "metadata": {},
   "source": [
    "# 2018"
   ]
  },
  {
   "cell_type": "code",
   "execution_count": 524,
   "metadata": {},
   "outputs": [
    {
     "name": "stdout",
     "output_type": "stream",
     "text": [
      "2018_Tanner_Tidbit_Data  RKC_2018\n"
     ]
    }
   ],
   "source": [
    "!ls"
   ]
  },
  {
   "cell_type": "code",
   "execution_count": 525,
   "metadata": {},
   "outputs": [],
   "source": [
    "# We've already got separate directories for each survey type\n",
    "# Rename for consistency\n",
    "!mv 2018_Tanner_Tidbit_Data/ Tanner_survey/\n",
    "!mv RKC_2018/ RKC_survey/"
   ]
  },
  {
   "cell_type": "code",
   "execution_count": 526,
   "metadata": {},
   "outputs": [
    {
     "name": "stdout",
     "output_type": "stream",
     "text": [
      "/mnt/c/Users/acoyl/Documents/GitHub/hemat_modeling/data/ADFG_SE_AK_pot_surveys/Tidbits/2018/RKC_survey\n"
     ]
    }
   ],
   "source": [
    "%cd RKC_survey/"
   ]
  },
  {
   "cell_type": "code",
   "execution_count": 527,
   "metadata": {},
   "outputs": [],
   "source": [
    "# Rename the legs of the survey for consistency\n",
    "!mv Leg_I/ Leg_1\n",
    "!mv legII/ Leg_2\n",
    "!mv Leg_III/ Leg_3\n"
   ]
  },
  {
   "cell_type": "code",
   "execution_count": 528,
   "metadata": {},
   "outputs": [],
   "source": [
    "# Remove .hobo files from each directory\n",
    "!rm */*.hobo"
   ]
  },
  {
   "cell_type": "code",
   "execution_count": null,
   "metadata": {
    "scrolled": true
   },
   "outputs": [],
   "source": [
    "# Legs have zeroes prefixed to some single-digit numbers\n",
    "# Remove these\n",
    "\n",
    "%cd Leg_1/\n",
    "!rename 's/_0//' *_0.txt\n",
    "!rename 's/0//' 0?.txt\n",
    "\n",
    "# Move to Leg 2\n",
    "%cd ../Leg_2/\n",
    "!rename 's/_0//' *_0.txt\n",
    "!rename 's/0//' 0?.txt\n",
    "\n",
    "# Moving to Leg 3\n",
    "%cd ../Leg_3/\n",
    "!rename 's/_0_0//' *_0.txt\n",
    "!rename 's/0//' 0?.txt\n",
    "!mv 09_0.txt 9_0.txt"
   ]
  },
  {
   "cell_type": "code",
   "execution_count": 548,
   "metadata": {},
   "outputs": [
    {
     "name": "stdout",
     "output_type": "stream",
     "text": [
      "/mnt/c/Users/acoyl/Documents/GitHub/hemat_modeling/data/ADFG_SE_AK_pot_surveys/Tidbits/2018/Tanner_survey\n"
     ]
    }
   ],
   "source": [
    "# Moving on to Tanner data\n",
    "%cd ../../Tanner_survey/"
   ]
  },
  {
   "cell_type": "code",
   "execution_count": 549,
   "metadata": {},
   "outputs": [],
   "source": [
    "# Rename folders to match consensus\n",
    "!mv 2018_tanner_leg_2/ Leg_2"
   ]
  },
  {
   "cell_type": "code",
   "execution_count": 550,
   "metadata": {},
   "outputs": [],
   "source": [
    "# Remove .hobo files\n",
    "!rm */*.hobo"
   ]
  },
  {
   "cell_type": "code",
   "execution_count": null,
   "metadata": {},
   "outputs": [],
   "source": [
    "# Legs have zeroes prefixed to some single-digit numbers\n",
    "# Remove these, along with some suffixes in Leg 2\n",
    "\n",
    "%cd Leg_1/\n",
    "!rename 's/0//' 0?.txt\n",
    "\n",
    "%cd ../Leg_2/\n",
    "!rename 's/_0//' *_0.txt\n",
    "!rename 's/0//' 0?.txt\n"
   ]
  },
  {
   "cell_type": "code",
   "execution_count": 559,
   "metadata": {},
   "outputs": [],
   "source": [
    "!rename 's/0//' 0?.txt"
   ]
  },
  {
   "cell_type": "code",
   "execution_count": 560,
   "metadata": {},
   "outputs": [
    {
     "name": "stdout",
     "output_type": "stream",
     "text": [
      "/mnt/c/Users/acoyl/Documents/GitHub/hemat_modeling/data/ADFG_SE_AK_pot_surveys/Tidbits/2019\n"
     ]
    }
   ],
   "source": [
    "# Alright, done! On to 2019\n",
    "%cd ../../../2019/"
   ]
  },
  {
   "cell_type": "markdown",
   "metadata": {},
   "source": [
    "# 2019"
   ]
  },
  {
   "cell_type": "code",
   "execution_count": 561,
   "metadata": {},
   "outputs": [
    {
     "name": "stdout",
     "output_type": "stream",
     "text": [
      "RKC\n"
     ]
    }
   ],
   "source": [
    "!ls"
   ]
  },
  {
   "cell_type": "code",
   "execution_count": 562,
   "metadata": {},
   "outputs": [],
   "source": [
    "# We've already got separate directories for each survey type\n",
    "# Rename for consistency\n",
    "!mv RKC/ RKC_survey/"
   ]
  },
  {
   "cell_type": "code",
   "execution_count": 563,
   "metadata": {},
   "outputs": [
    {
     "name": "stdout",
     "output_type": "stream",
     "text": [
      "/mnt/c/Users/acoyl/Documents/GitHub/hemat_modeling/data/ADFG_SE_AK_pot_surveys/Tidbits/2019/RKC_survey\n"
     ]
    }
   ],
   "source": [
    "%cd RKC_survey/"
   ]
  },
  {
   "cell_type": "code",
   "execution_count": 564,
   "metadata": {},
   "outputs": [],
   "source": [
    "# Rename the legs of the survey for consistency\n",
    "!mv 2019_RKC_Leg_I/ Leg_1\n",
    "!mv 2019_RKC_LEG_2/ Leg_2\n",
    "!mv 2019_RKC_Leg3/ Leg_3\n"
   ]
  },
  {
   "cell_type": "code",
   "execution_count": null,
   "metadata": {},
   "outputs": [],
   "source": [
    "# Remove .hobo files from each directory\n",
    "!rm */*.hobo\n",
    "!rm */*_Details.txt\n",
    "\n",
    "# Remove Leg 2 directory, since it only had hobo files and details files\n",
    "!rmdir Leg_2"
   ]
  },
  {
   "cell_type": "code",
   "execution_count": null,
   "metadata": {
    "scrolled": true
   },
   "outputs": [],
   "source": [
    "# Legs have zeroes prefixed to some single-digit numbers\n",
    "# Remove these\n",
    "\n",
    "%cd Leg_1/\n",
    "!rename 's/_0//' *_0.txt\n",
    "!rename 's/0//' 0?.txt\n",
    "\n",
    "# Moving to Leg 3\n",
    "%cd ../Leg_3/\n",
    "!rename -n 's/_0//' *_0.txt\n",
    "!rename -n 's/0//' 0?.txt\n"
   ]
  },
  {
   "cell_type": "code",
   "execution_count": null,
   "metadata": {},
   "outputs": [],
   "source": [
    "# Alright, done! Back to main folder!\n",
    "%cd ../../../"
   ]
  },
  {
   "cell_type": "markdown",
   "metadata": {},
   "source": [
    "# Main Folder"
   ]
  },
  {
   "cell_type": "code",
   "execution_count": 13,
   "metadata": {},
   "outputs": [
    {
     "name": "stdout",
     "output_type": "stream",
     "text": [
      "rm: cannot remove 'Access_template/': No such file or directory\n",
      "rm: cannot remove 'BOXCAR/': No such file or directory\n",
      "rm: cannot remove 'HOBOware/': No such file or directory\n",
      "rm: cannot remove 'Temp_folder_for_Chris/': No such file or directory\n",
      "rm: cannot remove 'GKC_Avg._Temps.JNB': No such file or directory\n",
      "rm: cannot remove 'Tidbit_template.xls': No such file or directory\n"
     ]
    }
   ],
   "source": [
    "# Remove unnecessary files and folders\n",
    "!rm -r Access_template/\n",
    "!rm -r BOXCAR/\n",
    "!rm -r HOBOware/\n",
    "!rm -r Temp_folder_for_Chris/\n",
    "!rm GKC_Avg._Temps.JNB\n",
    "!rm Tidbit_template.xls\n",
    "!rm *.JNB"
   ]
  },
  {
   "cell_type": "code",
   "execution_count": null,
   "metadata": {},
   "outputs": [],
   "source": []
  }
 ],
 "metadata": {
  "kernelspec": {
   "display_name": "Python 3",
   "language": "python",
   "name": "python3"
  },
  "language_info": {
   "codemirror_mode": {
    "name": "ipython",
    "version": 3
   },
   "file_extension": ".py",
   "mimetype": "text/x-python",
   "name": "python",
   "nbconvert_exporter": "python",
   "pygments_lexer": "ipython3",
   "version": "3.8.3"
  }
 },
 "nbformat": 4,
 "nbformat_minor": 4
}
